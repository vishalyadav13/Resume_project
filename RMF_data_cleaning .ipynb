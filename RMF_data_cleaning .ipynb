{
 "cells": [
  {
   "cell_type": "code",
   "execution_count": 99,
   "id": "907529c2-2093-4a5c-be90-89ca30672510",
   "metadata": {},
   "outputs": [],
   "source": [
    "\n",
    "import pandas as pd\n",
    "import math \n",
    "import numpy as np\n",
    "import matplotlib.pyplot as plt\n",
    "import seaborn as sns\n",
    "%matplotlib inline\n",
    "\n",
    "from datetime import datetime, date"
   ]
  },
  {
   "cell_type": "markdown",
   "id": "4ce3116f-b46f-405e-b130-4e9a4b73371d",
   "metadata": {
    "jp-MarkdownHeadingCollapsed": true
   },
   "source": [
    "## 1. Data Cleaning Customer Address"
   ]
  },
  {
   "cell_type": "code",
   "execution_count": 100,
   "id": "32d9f0ec-a619-4ea8-9334-4978996ef65a",
   "metadata": {},
   "outputs": [],
   "source": [
    "df_cust = pd.read_excel('Raw_data.xlsx' , sheet_name = 'CustomerAddress') "
   ]
  },
  {
   "cell_type": "code",
   "execution_count": 101,
   "id": "8101258a-abab-4320-8603-ec8a37450755",
   "metadata": {},
   "outputs": [
    {
     "data": {
      "text/html": [
       "<div>\n",
       "<style scoped>\n",
       "    .dataframe tbody tr th:only-of-type {\n",
       "        vertical-align: middle;\n",
       "    }\n",
       "\n",
       "    .dataframe tbody tr th {\n",
       "        vertical-align: top;\n",
       "    }\n",
       "\n",
       "    .dataframe thead th {\n",
       "        text-align: right;\n",
       "    }\n",
       "</style>\n",
       "<table border=\"1\" class=\"dataframe\">\n",
       "  <thead>\n",
       "    <tr style=\"text-align: right;\">\n",
       "      <th></th>\n",
       "      <th>customer_id</th>\n",
       "      <th>address</th>\n",
       "      <th>postcode</th>\n",
       "      <th>state</th>\n",
       "      <th>country</th>\n",
       "      <th>property_valuation</th>\n",
       "    </tr>\n",
       "  </thead>\n",
       "  <tbody>\n",
       "    <tr>\n",
       "      <th>0</th>\n",
       "      <td>1</td>\n",
       "      <td>060 Morning Avenue</td>\n",
       "      <td>2016</td>\n",
       "      <td>New South Wales</td>\n",
       "      <td>Australia</td>\n",
       "      <td>10</td>\n",
       "    </tr>\n",
       "    <tr>\n",
       "      <th>1</th>\n",
       "      <td>2</td>\n",
       "      <td>6 Meadow Vale Court</td>\n",
       "      <td>2153</td>\n",
       "      <td>New South Wales</td>\n",
       "      <td>Australia</td>\n",
       "      <td>10</td>\n",
       "    </tr>\n",
       "    <tr>\n",
       "      <th>2</th>\n",
       "      <td>4</td>\n",
       "      <td>0 Holy Cross Court</td>\n",
       "      <td>4211</td>\n",
       "      <td>QLD</td>\n",
       "      <td>Australia</td>\n",
       "      <td>9</td>\n",
       "    </tr>\n",
       "    <tr>\n",
       "      <th>3</th>\n",
       "      <td>5</td>\n",
       "      <td>17979 Del Mar Point</td>\n",
       "      <td>2448</td>\n",
       "      <td>New South Wales</td>\n",
       "      <td>Australia</td>\n",
       "      <td>4</td>\n",
       "    </tr>\n",
       "    <tr>\n",
       "      <th>4</th>\n",
       "      <td>6</td>\n",
       "      <td>9 Oakridge Court</td>\n",
       "      <td>3216</td>\n",
       "      <td>VIC</td>\n",
       "      <td>Australia</td>\n",
       "      <td>9</td>\n",
       "    </tr>\n",
       "  </tbody>\n",
       "</table>\n",
       "</div>"
      ],
      "text/plain": [
       "   customer_id              address  postcode            state    country  \\\n",
       "0            1   060 Morning Avenue      2016  New South Wales  Australia   \n",
       "1            2  6 Meadow Vale Court      2153  New South Wales  Australia   \n",
       "2            4   0 Holy Cross Court      4211              QLD  Australia   \n",
       "3            5  17979 Del Mar Point      2448  New South Wales  Australia   \n",
       "4            6     9 Oakridge Court      3216              VIC  Australia   \n",
       "\n",
       "   property_valuation  \n",
       "0                  10  \n",
       "1                  10  \n",
       "2                   9  \n",
       "3                   4  \n",
       "4                   9  "
      ]
     },
     "execution_count": 101,
     "metadata": {},
     "output_type": "execute_result"
    }
   ],
   "source": [
    "df_cust.head()"
   ]
  },
  {
   "cell_type": "code",
   "execution_count": 102,
   "id": "2bcedeb7-9fd9-457b-a718-d9ea77f41a78",
   "metadata": {},
   "outputs": [
    {
     "name": "stdout",
     "output_type": "stream",
     "text": [
      "<class 'pandas.core.frame.DataFrame'>\n",
      "RangeIndex: 3999 entries, 0 to 3998\n",
      "Data columns (total 6 columns):\n",
      " #   Column              Non-Null Count  Dtype \n",
      "---  ------              --------------  ----- \n",
      " 0   customer_id         3999 non-null   int64 \n",
      " 1   address             3999 non-null   object\n",
      " 2   postcode            3999 non-null   int64 \n",
      " 3   state               3999 non-null   object\n",
      " 4   country             3999 non-null   object\n",
      " 5   property_valuation  3999 non-null   int64 \n",
      "dtypes: int64(3), object(3)\n",
      "memory usage: 187.6+ KB\n"
     ]
    }
   ],
   "source": [
    "df_cust.info()"
   ]
  },
  {
   "cell_type": "code",
   "execution_count": 103,
   "id": "7fdc11be-7bb9-4c0c-a7cf-55ddf0b37bd1",
   "metadata": {},
   "outputs": [
    {
     "name": "stdout",
     "output_type": "stream",
     "text": [
      "Total records (rows) in the dataset : 3999\n",
      "Total columns (features) in the dataset : 6\n"
     ]
    }
   ],
   "source": [
    "print(\"Total records (rows) in the dataset : {}\".format(df_cust.shape[0]))\n",
    "print(\"Total columns (features) in the dataset : {}\".format(df_cust.shape[1]))"
   ]
  },
  {
   "cell_type": "code",
   "execution_count": 104,
   "id": "5f0dac3b-6a82-4e4c-901c-2995d9aad1d7",
   "metadata": {},
   "outputs": [
    {
     "data": {
      "text/plain": [
       "customer_id           0\n",
       "address               0\n",
       "postcode              0\n",
       "state                 0\n",
       "country               0\n",
       "property_valuation    0\n",
       "dtype: int64"
      ]
     },
     "execution_count": 104,
     "metadata": {},
     "output_type": "execute_result"
    }
   ],
   "source": [
    "#missing values \n",
    "\n",
    "df_cust.isnull().sum()"
   ]
  },
  {
   "cell_type": "markdown",
   "id": "f1825df5-8d3c-4f91-bcd7-d31b1ea1e66b",
   "metadata": {},
   "source": [
    "**There is no missing values in the data set**"
   ]
  },
  {
   "cell_type": "code",
   "execution_count": 105,
   "id": "197d70bd-9d9e-4229-b53d-5d95cac9ec24",
   "metadata": {},
   "outputs": [
    {
     "data": {
      "text/plain": [
       "NSW                2054\n",
       "VIC                 939\n",
       "QLD                 838\n",
       "New South Wales      86\n",
       "Victoria             82\n",
       "Name: state, dtype: int64"
      ]
     },
     "execution_count": 105,
     "metadata": {},
     "output_type": "execute_result"
    }
   ],
   "source": [
    "#inconsistency check\n",
    "\n",
    "df_cust['state'].value_counts()"
   ]
  },
  {
   "cell_type": "markdown",
   "id": "73f800e3-4fbc-409c-9318-b2181058ba2e",
   "metadata": {},
   "source": [
    "in state col, some of values are using there full form also so unifying theme by replacing their short form\n",
    "\n"
   ]
  },
  {
   "cell_type": "code",
   "execution_count": 106,
   "id": "6ffe6457-e516-4618-8dd3-b8f6b885d058",
   "metadata": {},
   "outputs": [
    {
     "data": {
      "text/plain": [
       "NSW    2140\n",
       "VIC    1021\n",
       "QLD     838\n",
       "Name: state, dtype: int64"
      ]
     },
     "execution_count": 106,
     "metadata": {},
     "output_type": "execute_result"
    }
   ],
   "source": [
    "#function for replacing state names with there short forms\n",
    "\n",
    "def replace_col(state_name):\n",
    "    if state_name == 'New South Wales':\n",
    "        return 'NSW'\n",
    "    elif state_name == 'Victoria':\n",
    "        return 'VIC'\n",
    "    else :\n",
    "       return state_name \n",
    "\n",
    "df_cust['state'] = df_cust['state'].apply(replace_col)\n",
    "df_cust['state'].value_counts()"
   ]
  },
  {
   "cell_type": "markdown",
   "id": "3b771701-d6f2-46e9-8f1f-09c5a11b70d9",
   "metadata": {},
   "source": [
    "Now state col is unifyed "
   ]
  },
  {
   "cell_type": "code",
   "execution_count": 107,
   "id": "08bdaab0-b1aa-4623-9302-78f9d489d1e7",
   "metadata": {},
   "outputs": [
    {
     "data": {
      "text/plain": [
       "Australia    3999\n",
       "Name: country, dtype: int64"
      ]
     },
     "execution_count": 107,
     "metadata": {},
     "output_type": "execute_result"
    }
   ],
   "source": [
    "#country col \n",
    "df_cust['country'].value_counts()"
   ]
  },
  {
   "cell_type": "markdown",
   "id": "19bfef54-fd1b-4325-ba13-9188d233b2bd",
   "metadata": {},
   "source": [
    "In country col evrything is correct "
   ]
  },
  {
   "cell_type": "code",
   "execution_count": 108,
   "id": "1941e589-964b-4581-b9bd-14b7bc69383a",
   "metadata": {},
   "outputs": [
    {
     "data": {
      "text/html": [
       "<div>\n",
       "<style scoped>\n",
       "    .dataframe tbody tr th:only-of-type {\n",
       "        vertical-align: middle;\n",
       "    }\n",
       "\n",
       "    .dataframe tbody tr th {\n",
       "        vertical-align: top;\n",
       "    }\n",
       "\n",
       "    .dataframe thead th {\n",
       "        text-align: right;\n",
       "    }\n",
       "</style>\n",
       "<table border=\"1\" class=\"dataframe\">\n",
       "  <thead>\n",
       "    <tr style=\"text-align: right;\">\n",
       "      <th></th>\n",
       "      <th>address</th>\n",
       "      <th>postcode</th>\n",
       "      <th>state</th>\n",
       "      <th>country</th>\n",
       "    </tr>\n",
       "  </thead>\n",
       "  <tbody>\n",
       "    <tr>\n",
       "      <th>0</th>\n",
       "      <td>060 Morning Avenue</td>\n",
       "      <td>2016</td>\n",
       "      <td>NSW</td>\n",
       "      <td>Australia</td>\n",
       "    </tr>\n",
       "    <tr>\n",
       "      <th>1</th>\n",
       "      <td>6 Meadow Vale Court</td>\n",
       "      <td>2153</td>\n",
       "      <td>NSW</td>\n",
       "      <td>Australia</td>\n",
       "    </tr>\n",
       "    <tr>\n",
       "      <th>2</th>\n",
       "      <td>0 Holy Cross Court</td>\n",
       "      <td>4211</td>\n",
       "      <td>QLD</td>\n",
       "      <td>Australia</td>\n",
       "    </tr>\n",
       "    <tr>\n",
       "      <th>3</th>\n",
       "      <td>17979 Del Mar Point</td>\n",
       "      <td>2448</td>\n",
       "      <td>NSW</td>\n",
       "      <td>Australia</td>\n",
       "    </tr>\n",
       "    <tr>\n",
       "      <th>4</th>\n",
       "      <td>9 Oakridge Court</td>\n",
       "      <td>3216</td>\n",
       "      <td>VIC</td>\n",
       "      <td>Australia</td>\n",
       "    </tr>\n",
       "    <tr>\n",
       "      <th>...</th>\n",
       "      <td>...</td>\n",
       "      <td>...</td>\n",
       "      <td>...</td>\n",
       "      <td>...</td>\n",
       "    </tr>\n",
       "    <tr>\n",
       "      <th>3994</th>\n",
       "      <td>1482 Hauk Trail</td>\n",
       "      <td>3064</td>\n",
       "      <td>VIC</td>\n",
       "      <td>Australia</td>\n",
       "    </tr>\n",
       "    <tr>\n",
       "      <th>3995</th>\n",
       "      <td>57042 Village Green Point</td>\n",
       "      <td>4511</td>\n",
       "      <td>QLD</td>\n",
       "      <td>Australia</td>\n",
       "    </tr>\n",
       "    <tr>\n",
       "      <th>3996</th>\n",
       "      <td>87 Crescent Oaks Alley</td>\n",
       "      <td>2756</td>\n",
       "      <td>NSW</td>\n",
       "      <td>Australia</td>\n",
       "    </tr>\n",
       "    <tr>\n",
       "      <th>3997</th>\n",
       "      <td>8194 Lien Street</td>\n",
       "      <td>4032</td>\n",
       "      <td>QLD</td>\n",
       "      <td>Australia</td>\n",
       "    </tr>\n",
       "    <tr>\n",
       "      <th>3998</th>\n",
       "      <td>320 Acker Drive</td>\n",
       "      <td>2251</td>\n",
       "      <td>NSW</td>\n",
       "      <td>Australia</td>\n",
       "    </tr>\n",
       "  </tbody>\n",
       "</table>\n",
       "<p>3999 rows × 4 columns</p>\n",
       "</div>"
      ],
      "text/plain": [
       "                        address  postcode state    country\n",
       "0            060 Morning Avenue      2016   NSW  Australia\n",
       "1           6 Meadow Vale Court      2153   NSW  Australia\n",
       "2            0 Holy Cross Court      4211   QLD  Australia\n",
       "3           17979 Del Mar Point      2448   NSW  Australia\n",
       "4              9 Oakridge Court      3216   VIC  Australia\n",
       "...                         ...       ...   ...        ...\n",
       "3994            1482 Hauk Trail      3064   VIC  Australia\n",
       "3995  57042 Village Green Point      4511   QLD  Australia\n",
       "3996     87 Crescent Oaks Alley      2756   NSW  Australia\n",
       "3997           8194 Lien Street      4032   QLD  Australia\n",
       "3998            320 Acker Drive      2251   NSW  Australia\n",
       "\n",
       "[3999 rows x 4 columns]"
      ]
     },
     "execution_count": 108,
     "metadata": {},
     "output_type": "execute_result"
    }
   ],
   "source": [
    "#droping dublicate if have\n",
    "df_cust[['address' , 'postcode' ,'state','country']].drop_duplicates()"
   ]
  },
  {
   "cell_type": "markdown",
   "id": "82b8c703-5e9b-476d-a1cb-b0358606d04b",
   "metadata": {},
   "source": [
    "getting the same row as we getting in starting"
   ]
  },
  {
   "cell_type": "code",
   "execution_count": 109,
   "id": "a336b48c-6b91-47dc-9936-b89a6657b9d5",
   "metadata": {},
   "outputs": [],
   "source": [
    "#exporting cleaned data into csv fromet\n",
    "\n",
    "df_cust.to_csv('CustomerAddress_Cleaned.csv', index=False)\n"
   ]
  },
  {
   "cell_type": "markdown",
   "id": "d4d606a5-8aea-4b42-bf05-162df0ac77ec",
   "metadata": {
    "jp-MarkdownHeadingCollapsed": true
   },
   "source": [
    "## 2. Data Cleaning Customer Demographics "
   ]
  },
  {
   "cell_type": "code",
   "execution_count": 110,
   "id": "fa5c9842-01cf-46d7-81cd-07c79391246a",
   "metadata": {},
   "outputs": [
    {
     "name": "stderr",
     "output_type": "stream",
     "text": [
      "C:\\Users\\yadav\\AppData\\Local\\Temp\\ipykernel_7588\\783563632.py:1: FutureWarning: Inferring datetime64[ns] from data containing strings is deprecated and will be removed in a future version. To retain the old behavior explicitly pass Series(data, dtype=datetime64[ns])\n",
      "  df_cust_details =  pd.read_excel('Raw_data.xlsx' , sheet_name = 'CustomerDemographic' )\n"
     ]
    }
   ],
   "source": [
    "df_cust_details =  pd.read_excel('Raw_data.xlsx' , sheet_name = 'CustomerDemographic' ) "
   ]
  },
  {
   "cell_type": "code",
   "execution_count": 111,
   "id": "1d956631-0607-4d9b-83ca-1afa15269d9f",
   "metadata": {
    "scrolled": true
   },
   "outputs": [
    {
     "data": {
      "text/html": [
       "<div>\n",
       "<style scoped>\n",
       "    .dataframe tbody tr th:only-of-type {\n",
       "        vertical-align: middle;\n",
       "    }\n",
       "\n",
       "    .dataframe tbody tr th {\n",
       "        vertical-align: top;\n",
       "    }\n",
       "\n",
       "    .dataframe thead th {\n",
       "        text-align: right;\n",
       "    }\n",
       "</style>\n",
       "<table border=\"1\" class=\"dataframe\">\n",
       "  <thead>\n",
       "    <tr style=\"text-align: right;\">\n",
       "      <th></th>\n",
       "      <th>customer_id</th>\n",
       "      <th>first_name</th>\n",
       "      <th>last_name</th>\n",
       "      <th>gender</th>\n",
       "      <th>past_3_years_bike_related_purchases</th>\n",
       "      <th>DOB</th>\n",
       "      <th>job_title</th>\n",
       "      <th>job_industry_category</th>\n",
       "      <th>wealth_segment</th>\n",
       "      <th>deceased_indicator</th>\n",
       "      <th>default</th>\n",
       "      <th>owns_car</th>\n",
       "      <th>tenure</th>\n",
       "    </tr>\n",
       "  </thead>\n",
       "  <tbody>\n",
       "    <tr>\n",
       "      <th>0</th>\n",
       "      <td>1</td>\n",
       "      <td>Laraine</td>\n",
       "      <td>Medendorp</td>\n",
       "      <td>F</td>\n",
       "      <td>93</td>\n",
       "      <td>1953-10-12</td>\n",
       "      <td>Executive Secretary</td>\n",
       "      <td>Health</td>\n",
       "      <td>Mass Customer</td>\n",
       "      <td>N</td>\n",
       "      <td>\"'</td>\n",
       "      <td>Yes</td>\n",
       "      <td>11.0</td>\n",
       "    </tr>\n",
       "    <tr>\n",
       "      <th>1</th>\n",
       "      <td>2</td>\n",
       "      <td>Eli</td>\n",
       "      <td>Bockman</td>\n",
       "      <td>Male</td>\n",
       "      <td>81</td>\n",
       "      <td>1980-12-16</td>\n",
       "      <td>Administrative Officer</td>\n",
       "      <td>Financial Services</td>\n",
       "      <td>Mass Customer</td>\n",
       "      <td>N</td>\n",
       "      <td>&lt;script&gt;alert('hi')&lt;/script&gt;</td>\n",
       "      <td>Yes</td>\n",
       "      <td>16.0</td>\n",
       "    </tr>\n",
       "    <tr>\n",
       "      <th>2</th>\n",
       "      <td>3</td>\n",
       "      <td>Arlin</td>\n",
       "      <td>Dearle</td>\n",
       "      <td>Male</td>\n",
       "      <td>61</td>\n",
       "      <td>1954-01-20</td>\n",
       "      <td>Recruiting Manager</td>\n",
       "      <td>Property</td>\n",
       "      <td>Mass Customer</td>\n",
       "      <td>N</td>\n",
       "      <td>2018-02-01 00:00:00</td>\n",
       "      <td>Yes</td>\n",
       "      <td>15.0</td>\n",
       "    </tr>\n",
       "    <tr>\n",
       "      <th>3</th>\n",
       "      <td>4</td>\n",
       "      <td>Talbot</td>\n",
       "      <td>NaN</td>\n",
       "      <td>Male</td>\n",
       "      <td>33</td>\n",
       "      <td>1961-10-03</td>\n",
       "      <td>NaN</td>\n",
       "      <td>IT</td>\n",
       "      <td>Mass Customer</td>\n",
       "      <td>N</td>\n",
       "      <td>() { _; } &gt;_[$($())] { touch /tmp/blns.shellsh...</td>\n",
       "      <td>No</td>\n",
       "      <td>7.0</td>\n",
       "    </tr>\n",
       "    <tr>\n",
       "      <th>4</th>\n",
       "      <td>5</td>\n",
       "      <td>Sheila-kathryn</td>\n",
       "      <td>Calton</td>\n",
       "      <td>Female</td>\n",
       "      <td>56</td>\n",
       "      <td>1977-05-13</td>\n",
       "      <td>Senior Editor</td>\n",
       "      <td>NaN</td>\n",
       "      <td>Affluent Customer</td>\n",
       "      <td>N</td>\n",
       "      <td>NIL</td>\n",
       "      <td>Yes</td>\n",
       "      <td>8.0</td>\n",
       "    </tr>\n",
       "  </tbody>\n",
       "</table>\n",
       "</div>"
      ],
      "text/plain": [
       "   customer_id      first_name  last_name  gender  \\\n",
       "0            1         Laraine  Medendorp       F   \n",
       "1            2             Eli    Bockman    Male   \n",
       "2            3           Arlin     Dearle    Male   \n",
       "3            4          Talbot        NaN    Male   \n",
       "4            5  Sheila-kathryn     Calton  Female   \n",
       "\n",
       "   past_3_years_bike_related_purchases        DOB               job_title  \\\n",
       "0                                   93 1953-10-12     Executive Secretary   \n",
       "1                                   81 1980-12-16  Administrative Officer   \n",
       "2                                   61 1954-01-20      Recruiting Manager   \n",
       "3                                   33 1961-10-03                     NaN   \n",
       "4                                   56 1977-05-13           Senior Editor   \n",
       "\n",
       "  job_industry_category     wealth_segment deceased_indicator  \\\n",
       "0                Health      Mass Customer                  N   \n",
       "1    Financial Services      Mass Customer                  N   \n",
       "2              Property      Mass Customer                  N   \n",
       "3                    IT      Mass Customer                  N   \n",
       "4                   NaN  Affluent Customer                  N   \n",
       "\n",
       "                                             default owns_car  tenure  \n",
       "0                                                 \"'      Yes    11.0  \n",
       "1                       <script>alert('hi')</script>      Yes    16.0  \n",
       "2                                2018-02-01 00:00:00      Yes    15.0  \n",
       "3  () { _; } >_[$($())] { touch /tmp/blns.shellsh...       No     7.0  \n",
       "4                                                NIL      Yes     8.0  "
      ]
     },
     "execution_count": 111,
     "metadata": {},
     "output_type": "execute_result"
    }
   ],
   "source": [
    "df_cust_details.head()"
   ]
  },
  {
   "cell_type": "code",
   "execution_count": 112,
   "id": "142831f5-35be-4790-8aaa-ba4876e96cad",
   "metadata": {},
   "outputs": [
    {
     "name": "stdout",
     "output_type": "stream",
     "text": [
      "<class 'pandas.core.frame.DataFrame'>\n",
      "RangeIndex: 4000 entries, 0 to 3999\n",
      "Data columns (total 13 columns):\n",
      " #   Column                               Non-Null Count  Dtype         \n",
      "---  ------                               --------------  -----         \n",
      " 0   customer_id                          4000 non-null   int64         \n",
      " 1   first_name                           4000 non-null   object        \n",
      " 2   last_name                            3875 non-null   object        \n",
      " 3   gender                               4000 non-null   object        \n",
      " 4   past_3_years_bike_related_purchases  4000 non-null   int64         \n",
      " 5   DOB                                  3913 non-null   datetime64[ns]\n",
      " 6   job_title                            3494 non-null   object        \n",
      " 7   job_industry_category                3344 non-null   object        \n",
      " 8   wealth_segment                       4000 non-null   object        \n",
      " 9   deceased_indicator                   4000 non-null   object        \n",
      " 10  default                              3698 non-null   object        \n",
      " 11  owns_car                             4000 non-null   object        \n",
      " 12  tenure                               3913 non-null   float64       \n",
      "dtypes: datetime64[ns](1), float64(1), int64(2), object(9)\n",
      "memory usage: 406.4+ KB\n"
     ]
    }
   ],
   "source": [
    "df_cust_details.info()"
   ]
  },
  {
   "cell_type": "markdown",
   "id": "c529228f-30ff-4b34-8142-ca2636458beb",
   "metadata": {},
   "source": [
    "**default** column seems irrelevant it should be drop from the data set"
   ]
  },
  {
   "cell_type": "code",
   "execution_count": 113,
   "id": "14e344d0-743d-48ed-9529-86fb3bc8089e",
   "metadata": {},
   "outputs": [],
   "source": [
    "#droping irrelevant col\n",
    "df_cust_details.drop(labels={'default'} , axis=1 , inplace=True)"
   ]
  },
  {
   "cell_type": "code",
   "execution_count": 114,
   "id": "96b3ee49-9d8b-4e6e-8f06-1e3ccfec540d",
   "metadata": {},
   "outputs": [
    {
     "name": "stdout",
     "output_type": "stream",
     "text": [
      "Total records (rows) in the dataset : 4000\n",
      "Total columns (features) in the dataset : 12\n"
     ]
    }
   ],
   "source": [
    "#shape of data set\n",
    "print(\"Total records (rows) in the dataset : {}\".format(df_cust_details.shape[0]))\n",
    "print(\"Total columns (features) in the dataset : {}\".format(df_cust_details.shape[1]))"
   ]
  },
  {
   "cell_type": "code",
   "execution_count": 115,
   "id": "848779a9-165b-4711-8519-d1dfc5350031",
   "metadata": {},
   "outputs": [
    {
     "data": {
      "text/plain": [
       "customer_id                              0\n",
       "first_name                               0\n",
       "last_name                              125\n",
       "gender                                   0\n",
       "past_3_years_bike_related_purchases      0\n",
       "DOB                                     87\n",
       "job_title                              506\n",
       "job_industry_category                  656\n",
       "wealth_segment                           0\n",
       "deceased_indicator                       0\n",
       "owns_car                                 0\n",
       "tenure                                  87\n",
       "dtype: int64"
      ]
     },
     "execution_count": 115,
     "metadata": {},
     "output_type": "execute_result"
    }
   ],
   "source": [
    "#missing values check\n",
    "\n",
    "df_cust_details.isnull().sum()"
   ]
  },
  {
   "cell_type": "code",
   "execution_count": 116,
   "id": "4c394287-3198-4f74-8a76-86d25525343d",
   "metadata": {},
   "outputs": [
    {
     "data": {
      "text/plain": [
       "customer_id                             0.000\n",
       "first_name                              0.000\n",
       "last_name                               3.125\n",
       "gender                                  0.000\n",
       "past_3_years_bike_related_purchases     0.000\n",
       "DOB                                     2.175\n",
       "job_title                              12.650\n",
       "job_industry_category                  16.400\n",
       "wealth_segment                          0.000\n",
       "deceased_indicator                      0.000\n",
       "owns_car                                0.000\n",
       "tenure                                  2.175\n",
       "dtype: float64"
      ]
     },
     "execution_count": 116,
     "metadata": {},
     "output_type": "execute_result"
    }
   ],
   "source": [
    "# Percentage of missing values\n",
    "df_cust_details.isnull().mean()*100"
   ]
  },
  {
   "cell_type": "markdown",
   "id": "8450945c-d8fd-45ad-81f4-ce1f0ee402e0",
   "metadata": {},
   "source": [
    "1. some column have missing values col name is last_name,job_title , job_industry_category and tenure\n",
    "2. as customer_id and first_name have no missing value so we can just fill NAN's with any value in last_name column\n"
   ]
  },
  {
   "cell_type": "code",
   "execution_count": 117,
   "id": "725edde8-cfb5-4506-a19c-a64c1b09410e",
   "metadata": {},
   "outputs": [],
   "source": [
    "df_cust_details['last_name'] = df_cust_details['last_name'].fillna('None' , axis=0 )"
   ]
  },
  {
   "cell_type": "code",
   "execution_count": 118,
   "id": "af832461-cc71-4f3b-936e-38f27527bd8a",
   "metadata": {},
   "outputs": [
    {
     "data": {
      "text/plain": [
       "0"
      ]
     },
     "execution_count": 118,
     "metadata": {},
     "output_type": "execute_result"
    }
   ],
   "source": [
    "df_cust_details['last_name'].isnull().sum()"
   ]
  },
  {
   "cell_type": "markdown",
   "id": "4ebe60ce-b7a9-4354-8479-9dee208109bc",
   "metadata": {},
   "source": [
    "Currently there are no missing values for last name column"
   ]
  },
  {
   "cell_type": "code",
   "execution_count": 119,
   "id": "ec0fcb3b-79f8-4b7f-9a35-593e45ca5d0d",
   "metadata": {},
   "outputs": [
    {
     "data": {
      "text/plain": [
       "2.175"
      ]
     },
     "execution_count": 119,
     "metadata": {},
     "output_type": "execute_result"
    }
   ],
   "source": [
    "#filling DOB col missing values \n",
    "\n",
    "df_cust_details['DOB'].isnull().mean()*100"
   ]
  },
  {
   "cell_type": "markdown",
   "id": "9dad1cb9-5484-407f-a6de-9d8a8fce3ec9",
   "metadata": {},
   "source": [
    "In DOB column Percentage of missing value is less then 5%. hance we can drop that rows that  have null value "
   ]
  },
  {
   "cell_type": "code",
   "execution_count": 120,
   "id": "3e6f0c46-1746-425f-a602-d04d4fc19a60",
   "metadata": {},
   "outputs": [
    {
     "data": {
      "text/plain": [
       "Int64Index([ 143,  167,  266,  289,  450,  452,  453,  479,  512,  525,  547,\n",
       "             581,  598,  679,  684,  798,  838,  882,  891,  949,  974,  982,\n",
       "             995, 1037, 1043, 1081, 1173, 1209, 1243, 1350, 1476, 1508, 1582,\n",
       "            1627, 1682, 1739, 1772, 1779, 1805, 1917, 1937, 1989, 1999, 2020,\n",
       "            2068, 2164, 2204, 2251, 2294, 2334, 2340, 2413, 2425, 2468, 2539,\n",
       "            2641, 2646, 2695, 2696, 2853, 2919, 2962, 2998, 3011, 3085, 3150,\n",
       "            3221, 3222, 3254, 3287, 3297, 3311, 3321, 3342, 3364, 3472, 3509,\n",
       "            3512, 3564, 3653, 3717, 3726, 3778, 3882, 3930, 3934, 3997],\n",
       "           dtype='int64')"
      ]
     },
     "execution_count": 120,
     "metadata": {},
     "output_type": "execute_result"
    }
   ],
   "source": [
    "drop_index = df_cust_details[df_cust_details['DOB'].isnull()].index\n",
    "drop_index"
   ]
  },
  {
   "cell_type": "code",
   "execution_count": 121,
   "id": "382669ba-f898-4b1f-a6d2-7f13b626e0b1",
   "metadata": {},
   "outputs": [],
   "source": [
    "df_cust_details.drop(index=drop_index , axis=0, inplace=True)"
   ]
  },
  {
   "cell_type": "code",
   "execution_count": 122,
   "id": "f1a7334b-af21-4097-a3a1-19f06ab6c317",
   "metadata": {},
   "outputs": [
    {
     "data": {
      "text/plain": [
       "0.0"
      ]
     },
     "execution_count": 122,
     "metadata": {},
     "output_type": "execute_result"
    }
   ],
   "source": [
    "df_cust_details['DOB'].isnull().mean()*100"
   ]
  },
  {
   "cell_type": "markdown",
   "id": "dbcf7d2c-9429-4294-a415-32e6651f391c",
   "metadata": {},
   "source": [
    "1. now DOB column have zero missing value\n",
    "2. DOB and tenure both column had same missing values index hance tenure column is also zero missing value now"
   ]
  },
  {
   "cell_type": "code",
   "execution_count": 123,
   "id": "8dc0c4ad-9a81-42c6-bc11-b65129b92184",
   "metadata": {},
   "outputs": [
    {
     "data": {
      "text/plain": [
       "0.0"
      ]
     },
     "execution_count": 123,
     "metadata": {},
     "output_type": "execute_result"
    }
   ],
   "source": [
    "df_cust_details['tenure'].isnull().mean()*100"
   ]
  },
  {
   "cell_type": "code",
   "execution_count": 124,
   "id": "4802d0ec-c0ef-4e40-afeb-a8a6bf20d550",
   "metadata": {},
   "outputs": [],
   "source": [
    "#counverting datatype of DOB column into Date\n",
    "\n",
    "df_cust_details['DOB'] = pd.to_datetime(df_cust_details['DOB'])"
   ]
  },
  {
   "cell_type": "code",
   "execution_count": 125,
   "id": "bb0a1ced-b726-4ffa-a710-a9bd43baa687",
   "metadata": {},
   "outputs": [],
   "source": [
    "#adding age column\n",
    "\n",
    "def cal_age(DOB):\n",
    "    today = date.today()\n",
    "    return today.year - DOB.year - ((today.month,today.day) < (DOB.month,DOB.day) )\n",
    "\n",
    "df_cust_details['age'] = df_cust_details['DOB'].apply(cal_age)"
   ]
  },
  {
   "cell_type": "code",
   "execution_count": 126,
   "id": "66997031-de45-4c2d-bf84-819c77ececa3",
   "metadata": {
    "scrolled": true
   },
   "outputs": [
    {
     "data": {
      "text/plain": [
       "<AxesSubplot:xlabel='age', ylabel='Count'>"
      ]
     },
     "execution_count": 126,
     "metadata": {},
     "output_type": "execute_result"
    },
    {
     "data": {
      "image/png": "[encoded data removed]",
      "text/plain": [
       "<Figure size 640x480 with 1 Axes>"
      ]
     },
     "metadata": {},
     "output_type": "display_data"
    }
   ],
   "source": [
    "#age distribution\n",
    "sns.histplot(df_cust_details['age'], kde =False , bins = 50 )"
   ]
  },
  {
   "cell_type": "code",
   "execution_count": 127,
   "id": "b4d6dedc-092d-4e33-88f4-cd3d93d47549",
   "metadata": {},
   "outputs": [
    {
     "data": {
      "text/plain": [
       "count    3913.000000\n",
       "mean       46.426783\n",
       "std        12.798694\n",
       "min        22.000000\n",
       "25%        37.000000\n",
       "50%        46.000000\n",
       "75%        56.000000\n",
       "max       180.000000\n",
       "Name: age, dtype: float64"
      ]
     },
     "execution_count": 127,
     "metadata": {},
     "output_type": "execute_result"
    }
   ],
   "source": [
    "#Statistics of the Age column\n",
    "df_cust_details['age'].describe()"
   ]
  },
  {
   "cell_type": "markdown",
   "id": "3e169ca8-1e69-4bf0-a1dc-1585abedf883",
   "metadata": {},
   "source": [
    "Here max age is 180 but 75ntill is 56 hance this is a outlier and droping it  "
   ]
  },
  {
   "cell_type": "code",
   "execution_count": 128,
   "id": "39fc415d",
   "metadata": {},
   "outputs": [
    {
     "data": {
      "text/html": [
       "<div>\n",
       "<style scoped>\n",
       "    .dataframe tbody tr th:only-of-type {\n",
       "        vertical-align: middle;\n",
       "    }\n",
       "\n",
       "    .dataframe tbody tr th {\n",
       "        vertical-align: top;\n",
       "    }\n",
       "\n",
       "    .dataframe thead th {\n",
       "        text-align: right;\n",
       "    }\n",
       "</style>\n",
       "<table border=\"1\" class=\"dataframe\">\n",
       "  <thead>\n",
       "    <tr style=\"text-align: right;\">\n",
       "      <th></th>\n",
       "      <th>customer_id</th>\n",
       "      <th>first_name</th>\n",
       "      <th>last_name</th>\n",
       "      <th>gender</th>\n",
       "      <th>past_3_years_bike_related_purchases</th>\n",
       "      <th>DOB</th>\n",
       "      <th>job_title</th>\n",
       "      <th>job_industry_category</th>\n",
       "      <th>wealth_segment</th>\n",
       "      <th>deceased_indicator</th>\n",
       "      <th>owns_car</th>\n",
       "      <th>tenure</th>\n",
       "      <th>age</th>\n",
       "    </tr>\n",
       "  </thead>\n",
       "  <tbody>\n",
       "    <tr>\n",
       "      <th>33</th>\n",
       "      <td>34</td>\n",
       "      <td>Jephthah</td>\n",
       "      <td>Bachmann</td>\n",
       "      <td>U</td>\n",
       "      <td>59</td>\n",
       "      <td>1843-12-21</td>\n",
       "      <td>Legal Assistant</td>\n",
       "      <td>IT</td>\n",
       "      <td>Affluent Customer</td>\n",
       "      <td>N</td>\n",
       "      <td>No</td>\n",
       "      <td>20.0</td>\n",
       "      <td>180</td>\n",
       "    </tr>\n",
       "  </tbody>\n",
       "</table>\n",
       "</div>"
      ],
      "text/plain": [
       "    customer_id first_name last_name gender  \\\n",
       "33           34   Jephthah  Bachmann      U   \n",
       "\n",
       "    past_3_years_bike_related_purchases        DOB        job_title  \\\n",
       "33                                   59 1843-12-21  Legal Assistant   \n",
       "\n",
       "   job_industry_category     wealth_segment deceased_indicator owns_car  \\\n",
       "33                    IT  Affluent Customer                  N       No   \n",
       "\n",
       "    tenure  age  \n",
       "33    20.0  180  "
      ]
     },
     "execution_count": 128,
     "metadata": {},
     "output_type": "execute_result"
    }
   ],
   "source": [
    "df_cust_details[df_cust_details['age']>100]"
   ]
  },
  {
   "cell_type": "code",
   "execution_count": 129,
   "id": "6fdd2fef",
   "metadata": {},
   "outputs": [],
   "source": [
    "#droping this record\n",
    "o_index = df_cust_details[df_cust_details['age']>100].index\n",
    "df_cust_details.drop(index=o_index , inplace=True , axis=0)\n"
   ]
  },
  {
   "cell_type": "code",
   "execution_count": 130,
   "id": "8e18863b",
   "metadata": {},
   "outputs": [],
   "source": [
    "#adding age group col\n",
    "\n",
    "df_cust_details['Age Group'] = df_cust_details['age'].apply(lambda x : (math.floor(x/10)+1)*10)"
   ]
  },
  {
   "cell_type": "code",
   "execution_count": 131,
   "id": "0ff5550d",
   "metadata": {},
   "outputs": [
    {
     "data": {
      "text/plain": [
       "<AxesSubplot:xlabel='Age Group', ylabel='Count'>"
      ]
     },
     "execution_count": 131,
     "metadata": {},
     "output_type": "execute_result"
    },
    {
     "data": {
      "image/png": "[encoded data removed]",
      "text/plain": [
       "<Figure size 640x480 with 1 Axes>"
      ]
     },
     "metadata": {},
     "output_type": "display_data"
    }
   ],
   "source": [
    "sns.histplot(data = df_cust_details['Age Group'])"
   ]
  },
  {
   "cell_type": "code",
   "execution_count": 132,
   "id": "eaeb015d",
   "metadata": {},
   "outputs": [
    {
     "data": {
      "text/plain": [
       "12.704498977505112"
      ]
     },
     "execution_count": 132,
     "metadata": {},
     "output_type": "execute_result"
    }
   ],
   "source": [
    "#filling job_titel col missing values \n",
    "\n",
    "df_cust_details['job_title'].isnull().mean()*100"
   ]
  },
  {
   "cell_type": "markdown",
   "id": "6b1a6fe0",
   "metadata": {},
   "source": [
    "here presentage of missing values is 13%.we will replace it with \"Missing\" "
   ]
  },
  {
   "cell_type": "code",
   "execution_count": 133,
   "id": "ff12b7dd",
   "metadata": {},
   "outputs": [
    {
     "data": {
      "text/plain": [
       "0.0"
      ]
     },
     "execution_count": 133,
     "metadata": {},
     "output_type": "execute_result"
    }
   ],
   "source": [
    "df_cust_details['job_title'] = df_cust_details['job_title'].fillna(\"Missing\" , axis=0 )\n",
    "   \n",
    "df_cust_details['job_title'].isnull().mean()*100\n"
   ]
  },
  {
   "cell_type": "markdown",
   "id": "d7116efc",
   "metadata": {},
   "source": [
    "Currently there are no mssing values for job_title column.\n",
    "\n"
   ]
  },
  {
   "cell_type": "code",
   "execution_count": 134,
   "id": "631def9a",
   "metadata": {},
   "outputs": [
    {
     "data": {
      "text/plain": [
       "16.768916155419223"
      ]
     },
     "execution_count": 134,
     "metadata": {},
     "output_type": "execute_result"
    }
   ],
   "source": [
    "#filling job_industry_category col missing values \n",
    "\n",
    "df_cust_details['job_industry_category'].isnull().mean()*100"
   ]
  },
  {
   "cell_type": "markdown",
   "id": "684588f5",
   "metadata": {},
   "source": [
    "same like Job_title column have to replace missing values with somthing like \"Missing\""
   ]
  },
  {
   "cell_type": "code",
   "execution_count": 135,
   "id": "f493f3fa",
   "metadata": {},
   "outputs": [
    {
     "data": {
      "text/plain": [
       "0.0"
      ]
     },
     "execution_count": 135,
     "metadata": {},
     "output_type": "execute_result"
    }
   ],
   "source": [
    "df_cust_details['job_industry_category'] = df_cust_details['job_industry_category'].fillna(\"Missing\"  , axis=0 )\n",
    "   \n",
    "df_cust_details['job_industry_category'].isnull().mean()*100"
   ]
  },
  {
   "cell_type": "markdown",
   "id": "77fad5aa",
   "metadata": {},
   "source": [
    "Currently there are no mssing values for job_industry_category column."
   ]
  },
  {
   "cell_type": "code",
   "execution_count": 136,
   "id": "78c908b7",
   "metadata": {},
   "outputs": [
    {
     "data": {
      "text/html": [
       "<div>\n",
       "<style scoped>\n",
       "    .dataframe tbody tr th:only-of-type {\n",
       "        vertical-align: middle;\n",
       "    }\n",
       "\n",
       "    .dataframe tbody tr th {\n",
       "        vertical-align: top;\n",
       "    }\n",
       "\n",
       "    .dataframe thead th {\n",
       "        text-align: right;\n",
       "    }\n",
       "</style>\n",
       "<table border=\"1\" class=\"dataframe\">\n",
       "  <thead>\n",
       "    <tr style=\"text-align: right;\">\n",
       "      <th></th>\n",
       "      <th>customer_id</th>\n",
       "      <th>first_name</th>\n",
       "      <th>last_name</th>\n",
       "      <th>gender</th>\n",
       "      <th>past_3_years_bike_related_purchases</th>\n",
       "      <th>DOB</th>\n",
       "      <th>job_title</th>\n",
       "      <th>job_industry_category</th>\n",
       "      <th>wealth_segment</th>\n",
       "      <th>deceased_indicator</th>\n",
       "      <th>owns_car</th>\n",
       "      <th>tenure</th>\n",
       "      <th>age</th>\n",
       "      <th>Age Group</th>\n",
       "    </tr>\n",
       "  </thead>\n",
       "  <tbody>\n",
       "    <tr>\n",
       "      <th>0</th>\n",
       "      <td>1</td>\n",
       "      <td>Laraine</td>\n",
       "      <td>Medendorp</td>\n",
       "      <td>F</td>\n",
       "      <td>93</td>\n",
       "      <td>1953-10-12</td>\n",
       "      <td>Executive Secretary</td>\n",
       "      <td>Health</td>\n",
       "      <td>Mass Customer</td>\n",
       "      <td>N</td>\n",
       "      <td>Yes</td>\n",
       "      <td>11.0</td>\n",
       "      <td>70</td>\n",
       "      <td>80</td>\n",
       "    </tr>\n",
       "    <tr>\n",
       "      <th>1</th>\n",
       "      <td>2</td>\n",
       "      <td>Eli</td>\n",
       "      <td>Bockman</td>\n",
       "      <td>Male</td>\n",
       "      <td>81</td>\n",
       "      <td>1980-12-16</td>\n",
       "      <td>Administrative Officer</td>\n",
       "      <td>Financial Services</td>\n",
       "      <td>Mass Customer</td>\n",
       "      <td>N</td>\n",
       "      <td>Yes</td>\n",
       "      <td>16.0</td>\n",
       "      <td>43</td>\n",
       "      <td>50</td>\n",
       "    </tr>\n",
       "    <tr>\n",
       "      <th>2</th>\n",
       "      <td>3</td>\n",
       "      <td>Arlin</td>\n",
       "      <td>Dearle</td>\n",
       "      <td>Male</td>\n",
       "      <td>61</td>\n",
       "      <td>1954-01-20</td>\n",
       "      <td>Recruiting Manager</td>\n",
       "      <td>Property</td>\n",
       "      <td>Mass Customer</td>\n",
       "      <td>N</td>\n",
       "      <td>Yes</td>\n",
       "      <td>15.0</td>\n",
       "      <td>70</td>\n",
       "      <td>80</td>\n",
       "    </tr>\n",
       "    <tr>\n",
       "      <th>3</th>\n",
       "      <td>4</td>\n",
       "      <td>Talbot</td>\n",
       "      <td>None</td>\n",
       "      <td>Male</td>\n",
       "      <td>33</td>\n",
       "      <td>1961-10-03</td>\n",
       "      <td>Missing</td>\n",
       "      <td>IT</td>\n",
       "      <td>Mass Customer</td>\n",
       "      <td>N</td>\n",
       "      <td>No</td>\n",
       "      <td>7.0</td>\n",
       "      <td>62</td>\n",
       "      <td>70</td>\n",
       "    </tr>\n",
       "    <tr>\n",
       "      <th>4</th>\n",
       "      <td>5</td>\n",
       "      <td>Sheila-kathryn</td>\n",
       "      <td>Calton</td>\n",
       "      <td>Female</td>\n",
       "      <td>56</td>\n",
       "      <td>1977-05-13</td>\n",
       "      <td>Senior Editor</td>\n",
       "      <td>Missing</td>\n",
       "      <td>Affluent Customer</td>\n",
       "      <td>N</td>\n",
       "      <td>Yes</td>\n",
       "      <td>8.0</td>\n",
       "      <td>47</td>\n",
       "      <td>50</td>\n",
       "    </tr>\n",
       "  </tbody>\n",
       "</table>\n",
       "</div>"
      ],
      "text/plain": [
       "   customer_id      first_name  last_name  gender  \\\n",
       "0            1         Laraine  Medendorp       F   \n",
       "1            2             Eli    Bockman    Male   \n",
       "2            3           Arlin     Dearle    Male   \n",
       "3            4          Talbot       None    Male   \n",
       "4            5  Sheila-kathryn     Calton  Female   \n",
       "\n",
       "   past_3_years_bike_related_purchases        DOB               job_title  \\\n",
       "0                                   93 1953-10-12     Executive Secretary   \n",
       "1                                   81 1980-12-16  Administrative Officer   \n",
       "2                                   61 1954-01-20      Recruiting Manager   \n",
       "3                                   33 1961-10-03                 Missing   \n",
       "4                                   56 1977-05-13           Senior Editor   \n",
       "\n",
       "  job_industry_category     wealth_segment deceased_indicator owns_car  \\\n",
       "0                Health      Mass Customer                  N      Yes   \n",
       "1    Financial Services      Mass Customer                  N      Yes   \n",
       "2              Property      Mass Customer                  N      Yes   \n",
       "3                    IT      Mass Customer                  N       No   \n",
       "4               Missing  Affluent Customer                  N      Yes   \n",
       "\n",
       "   tenure  age  Age Group  \n",
       "0    11.0   70         80  \n",
       "1    16.0   43         50  \n",
       "2    15.0   70         80  \n",
       "3     7.0   62         70  \n",
       "4     8.0   47         50  "
      ]
     },
     "execution_count": 136,
     "metadata": {},
     "output_type": "execute_result"
    }
   ],
   "source": [
    "# Inconsistency Check in category colume\n",
    "df_cust_details.head()"
   ]
  },
  {
   "cell_type": "markdown",
   "id": "061e4fcb",
   "metadata": {},
   "source": [
    "By observing above table.there are four categorical columns, their name as 'gender', 'wealth_segment' ,'deceased_indicator', 'owns_car'"
   ]
  },
  {
   "cell_type": "code",
   "execution_count": 137,
   "id": "3b90733e",
   "metadata": {},
   "outputs": [
    {
     "data": {
      "text/plain": [
       "Female    2037\n",
       "Male      1872\n",
       "F            1\n",
       "Femal        1\n",
       "M            1\n",
       "Name: gender, dtype: int64"
      ]
     },
     "execution_count": 137,
     "metadata": {},
     "output_type": "execute_result"
    }
   ],
   "source": [
    "#start with gender\n",
    "\n",
    "df_cust_details['gender'].value_counts()"
   ]
  },
  {
   "cell_type": "code",
   "execution_count": 138,
   "id": "62aa0994",
   "metadata": {},
   "outputs": [
    {
     "data": {
      "text/plain": [
       "customer_id                            0\n",
       "first_name                             0\n",
       "last_name                              0\n",
       "gender                                 0\n",
       "past_3_years_bike_related_purchases    0\n",
       "DOB                                    0\n",
       "job_title                              0\n",
       "job_industry_category                  0\n",
       "wealth_segment                         0\n",
       "deceased_indicator                     0\n",
       "owns_car                               0\n",
       "tenure                                 0\n",
       "age                                    0\n",
       "Age Group                              0\n",
       "dtype: int64"
      ]
     },
     "execution_count": 138,
     "metadata": {},
     "output_type": "execute_result"
    }
   ],
   "source": [
    "df_cust_details[df_cust_details['gender']==\"U\"].count()"
   ]
  },
  {
   "cell_type": "code",
   "execution_count": 139,
   "id": "62ad4af6",
   "metadata": {},
   "outputs": [
    {
     "data": {
      "text/plain": [
       "0.0"
      ]
     },
     "execution_count": 139,
     "metadata": {},
     "output_type": "execute_result"
    }
   ],
   "source": [
    "#calculating % of \"U\" in gender col \n",
    "df_cust_details.gender[df_cust_details['gender']==\"U\"].count()/df_cust_details.gender.count()*100"
   ]
  },
  {
   "cell_type": "markdown",
   "id": "5c0fdcec",
   "metadata": {},
   "source": [
    "1. have some Inconsistency in gender col. there are spelling mistake and typo.For gender with value M will be replaced with Male, F will be replaced by Female and Femal will be replaced by Female.\n",
    "2. In gender col we have 87 record for \"U\" that is around 2% of their col, but we haven't DOB ,age  and tenure records in respective  of \"U\". droping this reords               \n",
    "\n"
   ]
  },
  {
   "cell_type": "code",
   "execution_count": 140,
   "id": "b553ba30",
   "metadata": {},
   "outputs": [],
   "source": [
    "#droping U from gender col\n",
    "U_index = df_cust_details[df_cust_details['gender']==\"U\"].index\n",
    "\n",
    "df_cust_details.drop(index=U_index , inplace=True , axis=0)"
   ]
  },
  {
   "cell_type": "code",
   "execution_count": 141,
   "id": "b053127f",
   "metadata": {},
   "outputs": [],
   "source": [
    "#replacing \n",
    "def replace_gender_names(gender):\n",
    "    \n",
    "    # Making Gender as Male and Female as standards\n",
    "    if gender=='M':\n",
    "        return 'Male'\n",
    "    elif gender=='F':\n",
    "        return 'Female'\n",
    "    elif gender=='Femal':\n",
    "        return 'Female'\n",
    "    else :\n",
    "        return gender\n",
    "\n",
    "df_cust_details['gender'] = df_cust_details['gender'].apply(replace_gender_names)"
   ]
  },
  {
   "cell_type": "code",
   "execution_count": 142,
   "id": "fe1d2d8f",
   "metadata": {},
   "outputs": [
    {
     "data": {
      "text/plain": [
       "Female    2039\n",
       "Male      1873\n",
       "Name: gender, dtype: int64"
      ]
     },
     "execution_count": 142,
     "metadata": {},
     "output_type": "execute_result"
    }
   ],
   "source": [
    "df_cust_details['gender'].value_counts()"
   ]
  },
  {
   "cell_type": "markdown",
   "id": "1ef75f66",
   "metadata": {},
   "source": [
    "Now gerder column has resoved "
   ]
  },
  {
   "cell_type": "code",
   "execution_count": 143,
   "id": "e9bcdea7",
   "metadata": {},
   "outputs": [
    {
     "data": {
      "text/plain": [
       "Mass Customer        1954\n",
       "High Net Worth        996\n",
       "Affluent Customer     962\n",
       "Name: wealth_segment, dtype: int64"
      ]
     },
     "execution_count": 143,
     "metadata": {},
     "output_type": "execute_result"
    }
   ],
   "source": [
    "#Wealth Segment\n",
    "df_cust_details['wealth_segment'].value_counts()"
   ]
  },
  {
   "cell_type": "markdown",
   "id": "e2261499",
   "metadata": {},
   "source": [
    "there is no Inconsistency in wealth_segment col"
   ]
  },
  {
   "cell_type": "code",
   "execution_count": 144,
   "id": "e1c508de",
   "metadata": {},
   "outputs": [
    {
     "data": {
      "text/plain": [
       "N    3910\n",
       "Y       2\n",
       "Name: deceased_indicator, dtype: int64"
      ]
     },
     "execution_count": 144,
     "metadata": {},
     "output_type": "execute_result"
    }
   ],
   "source": [
    "#deceased_indicator\n",
    "df_cust_details['deceased_indicator'].value_counts()"
   ]
  },
  {
   "cell_type": "markdown",
   "id": "34d69a99",
   "metadata": {},
   "source": [
    "there is no Inconsistency in deceased_indicator col"
   ]
  },
  {
   "cell_type": "code",
   "execution_count": 145,
   "id": "0da8d55d",
   "metadata": {},
   "outputs": [
    {
     "data": {
      "text/plain": [
       "Yes    1974\n",
       "No     1938\n",
       "Name: owns_car, dtype: int64"
      ]
     },
     "execution_count": 145,
     "metadata": {},
     "output_type": "execute_result"
    }
   ],
   "source": [
    "#owns_car\n",
    "df_cust_details['owns_car'].value_counts()"
   ]
  },
  {
   "cell_type": "markdown",
   "id": "f2221b5c",
   "metadata": {},
   "source": [
    "there is no Inconsistency in owns_car col"
   ]
  },
  {
   "cell_type": "code",
   "execution_count": 146,
   "id": "97fc2e1e",
   "metadata": {},
   "outputs": [
    {
     "name": "stdout",
     "output_type": "stream",
     "text": [
      "Number of records after removing customer_id (pk), duplicates : 3912\n",
      "Number of records in original dataset : 3912\n"
     ]
    }
   ],
   "source": [
    "#Duplication Checks\n",
    "cust_demo_dedupped = df_cust_details.drop('customer_id', axis=1).drop_duplicates()\n",
    "\n",
    "print(\"Number of records after removing customer_id (pk), duplicates : {}\".format(cust_demo_dedupped.shape[0]))\n",
    "print(\"Number of records in original dataset : {}\".format(df_cust_details.shape[0]))"
   ]
  },
  {
   "cell_type": "markdown",
   "id": "abc471bf",
   "metadata": {},
   "source": [
    "there is no Duplication in the dataset "
   ]
  },
  {
   "cell_type": "code",
   "execution_count": 147,
   "id": "e188e5c9",
   "metadata": {},
   "outputs": [],
   "source": [
    "#exporting cleaned data\n",
    "\n",
    "df_cust_details.to_csv('CustomerDemographic_Cleaned.csv', index=False)"
   ]
  },
  {
   "cell_type": "markdown",
   "id": "3a584954-df0e-4b5a-ba1b-7fe66fef28b2",
   "metadata": {
    "jp-MarkdownHeadingCollapsed": true
   },
   "source": [
    "## 3. Data Cleaning New Customer "
   ]
  },
  {
   "cell_type": "code",
   "execution_count": 148,
   "id": "d1a5b889-e8d4-4e34-8b2e-f2b71c0a5dea",
   "metadata": {},
   "outputs": [
    {
     "name": "stderr",
     "output_type": "stream",
     "text": [
      "C:\\Users\\yadav\\AppData\\Local\\Temp\\ipykernel_7588\\2202284216.py:1: FutureWarning: Inferring datetime64[ns] from data containing strings is deprecated and will be removed in a future version. To retain the old behavior explicitly pass Series(data, dtype=datetime64[ns])\n",
      "  df_new_cust =  pd.read_excel('Raw_data.xlsx' , sheet_name = 'NewCustomerList' )\n"
     ]
    }
   ],
   "source": [
    "df_new_cust =  pd.read_excel('Raw_data.xlsx' , sheet_name = 'NewCustomerList' ) "
   ]
  },
  {
   "cell_type": "code",
   "execution_count": 149,
   "id": "59b59d39-258b-40cd-a4ff-1dbc05b83571",
   "metadata": {},
   "outputs": [
    {
     "data": {
      "text/html": [
       "<div>\n",
       "<style scoped>\n",
       "    .dataframe tbody tr th:only-of-type {\n",
       "        vertical-align: middle;\n",
       "    }\n",
       "\n",
       "    .dataframe tbody tr th {\n",
       "        vertical-align: top;\n",
       "    }\n",
       "\n",
       "    .dataframe thead th {\n",
       "        text-align: right;\n",
       "    }\n",
       "</style>\n",
       "<table border=\"1\" class=\"dataframe\">\n",
       "  <thead>\n",
       "    <tr style=\"text-align: right;\">\n",
       "      <th></th>\n",
       "      <th>first_name</th>\n",
       "      <th>last_name</th>\n",
       "      <th>gender</th>\n",
       "      <th>past_3_years_bike_related_purchases</th>\n",
       "      <th>DOB</th>\n",
       "      <th>job_title</th>\n",
       "      <th>job_industry_category</th>\n",
       "      <th>wealth_segment</th>\n",
       "      <th>deceased_indicator</th>\n",
       "      <th>owns_car</th>\n",
       "      <th>...</th>\n",
       "      <th>state</th>\n",
       "      <th>country</th>\n",
       "      <th>property_valuation</th>\n",
       "      <th>Unnamed: 16</th>\n",
       "      <th>Unnamed: 17</th>\n",
       "      <th>Unnamed: 18</th>\n",
       "      <th>Unnamed: 19</th>\n",
       "      <th>Unnamed: 20</th>\n",
       "      <th>Rank</th>\n",
       "      <th>Value</th>\n",
       "    </tr>\n",
       "  </thead>\n",
       "  <tbody>\n",
       "    <tr>\n",
       "      <th>0</th>\n",
       "      <td>Chickie</td>\n",
       "      <td>Brister</td>\n",
       "      <td>Male</td>\n",
       "      <td>86</td>\n",
       "      <td>1957-07-12</td>\n",
       "      <td>General Manager</td>\n",
       "      <td>Manufacturing</td>\n",
       "      <td>Mass Customer</td>\n",
       "      <td>N</td>\n",
       "      <td>Yes</td>\n",
       "      <td>...</td>\n",
       "      <td>QLD</td>\n",
       "      <td>Australia</td>\n",
       "      <td>6</td>\n",
       "      <td>0.81</td>\n",
       "      <td>1.0125</td>\n",
       "      <td>1.265625</td>\n",
       "      <td>1.075781</td>\n",
       "      <td>1</td>\n",
       "      <td>1</td>\n",
       "      <td>1.718750</td>\n",
       "    </tr>\n",
       "    <tr>\n",
       "      <th>1</th>\n",
       "      <td>Morly</td>\n",
       "      <td>Genery</td>\n",
       "      <td>Male</td>\n",
       "      <td>69</td>\n",
       "      <td>1970-03-22</td>\n",
       "      <td>Structural Engineer</td>\n",
       "      <td>Property</td>\n",
       "      <td>Mass Customer</td>\n",
       "      <td>N</td>\n",
       "      <td>No</td>\n",
       "      <td>...</td>\n",
       "      <td>NSW</td>\n",
       "      <td>Australia</td>\n",
       "      <td>11</td>\n",
       "      <td>0.75</td>\n",
       "      <td>0.7500</td>\n",
       "      <td>0.937500</td>\n",
       "      <td>0.796875</td>\n",
       "      <td>1</td>\n",
       "      <td>1</td>\n",
       "      <td>1.718750</td>\n",
       "    </tr>\n",
       "    <tr>\n",
       "      <th>2</th>\n",
       "      <td>Ardelis</td>\n",
       "      <td>Forrester</td>\n",
       "      <td>Female</td>\n",
       "      <td>10</td>\n",
       "      <td>1974-08-28</td>\n",
       "      <td>Senior Cost Accountant</td>\n",
       "      <td>Financial Services</td>\n",
       "      <td>Affluent Customer</td>\n",
       "      <td>N</td>\n",
       "      <td>No</td>\n",
       "      <td>...</td>\n",
       "      <td>VIC</td>\n",
       "      <td>Australia</td>\n",
       "      <td>5</td>\n",
       "      <td>0.71</td>\n",
       "      <td>0.7100</td>\n",
       "      <td>0.710000</td>\n",
       "      <td>0.710000</td>\n",
       "      <td>1</td>\n",
       "      <td>1</td>\n",
       "      <td>1.718750</td>\n",
       "    </tr>\n",
       "    <tr>\n",
       "      <th>3</th>\n",
       "      <td>Lucine</td>\n",
       "      <td>Stutt</td>\n",
       "      <td>Female</td>\n",
       "      <td>64</td>\n",
       "      <td>1979-01-28</td>\n",
       "      <td>Account Representative III</td>\n",
       "      <td>Manufacturing</td>\n",
       "      <td>Affluent Customer</td>\n",
       "      <td>N</td>\n",
       "      <td>Yes</td>\n",
       "      <td>...</td>\n",
       "      <td>QLD</td>\n",
       "      <td>Australia</td>\n",
       "      <td>1</td>\n",
       "      <td>0.50</td>\n",
       "      <td>0.6250</td>\n",
       "      <td>0.625000</td>\n",
       "      <td>0.625000</td>\n",
       "      <td>4</td>\n",
       "      <td>4</td>\n",
       "      <td>1.703125</td>\n",
       "    </tr>\n",
       "    <tr>\n",
       "      <th>4</th>\n",
       "      <td>Melinda</td>\n",
       "      <td>Hadlee</td>\n",
       "      <td>Female</td>\n",
       "      <td>34</td>\n",
       "      <td>1965-09-21</td>\n",
       "      <td>Financial Analyst</td>\n",
       "      <td>Financial Services</td>\n",
       "      <td>Affluent Customer</td>\n",
       "      <td>N</td>\n",
       "      <td>No</td>\n",
       "      <td>...</td>\n",
       "      <td>NSW</td>\n",
       "      <td>Australia</td>\n",
       "      <td>9</td>\n",
       "      <td>0.99</td>\n",
       "      <td>0.9900</td>\n",
       "      <td>1.237500</td>\n",
       "      <td>1.237500</td>\n",
       "      <td>4</td>\n",
       "      <td>4</td>\n",
       "      <td>1.703125</td>\n",
       "    </tr>\n",
       "  </tbody>\n",
       "</table>\n",
       "<p>5 rows × 23 columns</p>\n",
       "</div>"
      ],
      "text/plain": [
       "  first_name  last_name  gender  past_3_years_bike_related_purchases  \\\n",
       "0    Chickie    Brister    Male                                   86   \n",
       "1      Morly     Genery    Male                                   69   \n",
       "2    Ardelis  Forrester  Female                                   10   \n",
       "3     Lucine      Stutt  Female                                   64   \n",
       "4    Melinda     Hadlee  Female                                   34   \n",
       "\n",
       "         DOB                   job_title job_industry_category  \\\n",
       "0 1957-07-12             General Manager         Manufacturing   \n",
       "1 1970-03-22         Structural Engineer              Property   \n",
       "2 1974-08-28      Senior Cost Accountant    Financial Services   \n",
       "3 1979-01-28  Account Representative III         Manufacturing   \n",
       "4 1965-09-21           Financial Analyst    Financial Services   \n",
       "\n",
       "      wealth_segment deceased_indicator owns_car  ...  state    country  \\\n",
       "0      Mass Customer                  N      Yes  ...    QLD  Australia   \n",
       "1      Mass Customer                  N       No  ...    NSW  Australia   \n",
       "2  Affluent Customer                  N       No  ...    VIC  Australia   \n",
       "3  Affluent Customer                  N      Yes  ...    QLD  Australia   \n",
       "4  Affluent Customer                  N       No  ...    NSW  Australia   \n",
       "\n",
       "   property_valuation Unnamed: 16 Unnamed: 17  Unnamed: 18  Unnamed: 19  \\\n",
       "0                   6        0.81      1.0125     1.265625     1.075781   \n",
       "1                  11        0.75      0.7500     0.937500     0.796875   \n",
       "2                   5        0.71      0.7100     0.710000     0.710000   \n",
       "3                   1        0.50      0.6250     0.625000     0.625000   \n",
       "4                   9        0.99      0.9900     1.237500     1.237500   \n",
       "\n",
       "   Unnamed: 20  Rank     Value  \n",
       "0            1     1  1.718750  \n",
       "1            1     1  1.718750  \n",
       "2            1     1  1.718750  \n",
       "3            4     4  1.703125  \n",
       "4            4     4  1.703125  \n",
       "\n",
       "[5 rows x 23 columns]"
      ]
     },
     "execution_count": 149,
     "metadata": {},
     "output_type": "execute_result"
    }
   ],
   "source": [
    "df_new_cust.head()"
   ]
  },
  {
   "cell_type": "code",
   "execution_count": 150,
   "id": "d87b229c-03d2-4fb6-a610-5bd7d711f57e",
   "metadata": {},
   "outputs": [
    {
     "name": "stdout",
     "output_type": "stream",
     "text": [
      "Total records (rows) in the dataset : 1000\n",
      "Total columns (features) in the dataset : 23\n"
     ]
    }
   ],
   "source": [
    "#shape of dataset\n",
    "\n",
    "print(\"Total records (rows) in the dataset : {}\".format(df_new_cust.shape[0]))\n",
    "print(\"Total columns (features) in the dataset : {}\".format(df_new_cust.shape[1]))"
   ]
  },
  {
   "cell_type": "code",
   "execution_count": 151,
   "id": "72c1b6b7-ce13-4502-a8e3-07b1e54ba612",
   "metadata": {},
   "outputs": [
    {
     "name": "stdout",
     "output_type": "stream",
     "text": [
      "<class 'pandas.core.frame.DataFrame'>\n",
      "RangeIndex: 1000 entries, 0 to 999\n",
      "Data columns (total 23 columns):\n",
      " #   Column                               Non-Null Count  Dtype         \n",
      "---  ------                               --------------  -----         \n",
      " 0   first_name                           1000 non-null   object        \n",
      " 1   last_name                            971 non-null    object        \n",
      " 2   gender                               1000 non-null   object        \n",
      " 3   past_3_years_bike_related_purchases  1000 non-null   int64         \n",
      " 4   DOB                                  983 non-null    datetime64[ns]\n",
      " 5   job_title                            894 non-null    object        \n",
      " 6   job_industry_category                835 non-null    object        \n",
      " 7   wealth_segment                       1000 non-null   object        \n",
      " 8   deceased_indicator                   1000 non-null   object        \n",
      " 9   owns_car                             1000 non-null   object        \n",
      " 10  tenure                               1000 non-null   int64         \n",
      " 11  address                              1000 non-null   object        \n",
      " 12  postcode                             1000 non-null   int64         \n",
      " 13  state                                1000 non-null   object        \n",
      " 14  country                              1000 non-null   object        \n",
      " 15  property_valuation                   1000 non-null   int64         \n",
      " 16  Unnamed: 16                          1000 non-null   float64       \n",
      " 17  Unnamed: 17                          1000 non-null   float64       \n",
      " 18  Unnamed: 18                          1000 non-null   float64       \n",
      " 19  Unnamed: 19                          1000 non-null   float64       \n",
      " 20  Unnamed: 20                          1000 non-null   int64         \n",
      " 21  Rank                                 1000 non-null   int64         \n",
      " 22  Value                                1000 non-null   float64       \n",
      "dtypes: datetime64[ns](1), float64(5), int64(6), object(11)\n",
      "memory usage: 179.8+ KB\n"
     ]
    }
   ],
   "source": [
    "df_new_cust.info()"
   ]
  },
  {
   "cell_type": "markdown",
   "id": "4d61c7d8-fba4-4ba5-94a7-0371ca498238",
   "metadata": {},
   "source": [
    "for now datatype is looking fine where as we have some irrelevant column, named as  \"Unnamed: 16 \" ,\"Unnamed: 17\",Unnamed: 18\",Unnamed: 19\" and \"Unnamed: 20\""
   ]
  },
  {
   "cell_type": "code",
   "execution_count": 152,
   "id": "462e5b8a-b358-4132-8153-0b8f217b35bf",
   "metadata": {},
   "outputs": [],
   "source": [
    "#droping irrelevant column\n",
    "\n",
    "df_new_cust.drop(labels=['Unnamed: 16','Unnamed: 17', 'Unnamed: 18','Unnamed: 19','Unnamed: 20'] , inplace=True , axis=1)"
   ]
  },
  {
   "cell_type": "code",
   "execution_count": 153,
   "id": "74dd9d73-450e-435d-bd14-c4df49db075b",
   "metadata": {},
   "outputs": [
    {
     "data": {
      "text/plain": [
       "first_name                              0.0\n",
       "last_name                               2.9\n",
       "gender                                  0.0\n",
       "past_3_years_bike_related_purchases     0.0\n",
       "DOB                                     1.7\n",
       "job_title                              10.6\n",
       "job_industry_category                  16.5\n",
       "wealth_segment                          0.0\n",
       "deceased_indicator                      0.0\n",
       "owns_car                                0.0\n",
       "tenure                                  0.0\n",
       "address                                 0.0\n",
       "postcode                                0.0\n",
       "state                                   0.0\n",
       "country                                 0.0\n",
       "property_valuation                      0.0\n",
       "Rank                                    0.0\n",
       "Value                                   0.0\n",
       "dtype: float64"
      ]
     },
     "execution_count": 153,
     "metadata": {},
     "output_type": "execute_result"
    }
   ],
   "source": [
    "#missing values treatment\n",
    "\n",
    "df_new_cust.isnull().mean()*100"
   ]
  },
  {
   "cell_type": "markdown",
   "id": "6e87f50f-c747-4787-9f67-629d029bb69b",
   "metadata": {},
   "source": [
    "In this dataset four col are have missing valiues named as 'DOB' , 'job_title' , 'job_industry_category' and 'Last_name'                  "
   ]
  },
  {
   "cell_type": "code",
   "execution_count": 154,
   "id": "d368c554-2604-45db-bd07-a3c16a38374b",
   "metadata": {},
   "outputs": [],
   "source": [
    "#last_name col cleaning :- since first_name has no missing value tho we can replace null values with something like 'None' \n"
   ]
  },
  {
   "cell_type": "code",
   "execution_count": 155,
   "id": "e98065ba-a1e8-4f7a-8cdc-6e1bbd4c9d1b",
   "metadata": {},
   "outputs": [
    {
     "data": {
      "text/plain": [
       "0.0"
      ]
     },
     "execution_count": 155,
     "metadata": {},
     "output_type": "execute_result"
    }
   ],
   "source": [
    "df_new_cust['last_name'] = df_new_cust['last_name'].fillna(\"None\" , axis= 0)\n",
    "\n",
    "df_new_cust['last_name'].isnull().mean()*100"
   ]
  },
  {
   "cell_type": "markdown",
   "id": "f0efda72-6321-4b18-af3e-c95a0691b489",
   "metadata": {},
   "source": [
    "now last name has no missing value"
   ]
  },
  {
   "cell_type": "code",
   "execution_count": 156,
   "id": "b2571904-6678-4a11-ab25-718726e8b1d4",
   "metadata": {},
   "outputs": [
    {
     "data": {
      "text/plain": [
       "0"
      ]
     },
     "execution_count": 156,
     "metadata": {},
     "output_type": "execute_result"
    }
   ],
   "source": [
    "#DOB col cleaning :- in this col missing value percentage is 3%. hance we can drop these records \n",
    "DOB_index = df_new_cust[df_new_cust['DOB'].isnull()].index\n",
    "df_new_cust.drop(index=DOB_index , inplace=True ,axis=0)\n",
    "\n",
    "df_new_cust['DOB'].isnull().sum()"
   ]
  },
  {
   "cell_type": "markdown",
   "id": "2997cf56-1da0-49e6-a6b5-2b4e370d76a5",
   "metadata": {},
   "source": [
    "now DOB has no missing value"
   ]
  },
  {
   "cell_type": "code",
   "execution_count": 157,
   "id": "1e3f206a-cc65-4174-b5c5-26960fa950e5",
   "metadata": {},
   "outputs": [
    {
     "data": {
      "text/plain": [
       "0"
      ]
     },
     "execution_count": 157,
     "metadata": {},
     "output_type": "execute_result"
    }
   ],
   "source": [
    "#job_title col has missing value that is around 11%. We will replace null values with Missing\n",
    "\n",
    "df_new_cust['job_title'] = df_new_cust['job_title'].fillna('Missing'  , axis= 0 )\n",
    "df_new_cust['job_title'].isnull().sum()\n"
   ]
  },
  {
   "cell_type": "markdown",
   "id": "5ff19560-3ad9-470b-bf06-e80358e1e5b0",
   "metadata": {},
   "source": [
    "now job_title has no missing value"
   ]
  },
  {
   "cell_type": "code",
   "execution_count": 158,
   "id": "6e75477d-4bbe-4ad1-9597-fed64031f396",
   "metadata": {},
   "outputs": [
    {
     "data": {
      "text/plain": [
       "0"
      ]
     },
     "execution_count": 158,
     "metadata": {},
     "output_type": "execute_result"
    }
   ],
   "source": [
    "#job_industry_category col has missing value that is around 11%. We will replace null values with Missing\n",
    "\n",
    "df_new_cust['job_industry_category']= df_new_cust['job_industry_category'].fillna('Missing'  , axis= 0 )\n",
    "df_new_cust['job_industry_category'].isnull().sum()\n"
   ]
  },
  {
   "cell_type": "markdown",
   "id": "ec9c850c-5340-4490-b90d-3661b5694962",
   "metadata": {},
   "source": [
    "now job_industry_category has no missing value"
   ]
  },
  {
   "cell_type": "code",
   "execution_count": 159,
   "id": "2608a714-bb57-4230-ad4d-2dd1fc03e1f6",
   "metadata": {},
   "outputs": [
    {
     "data": {
      "text/html": [
       "<div>\n",
       "<style scoped>\n",
       "    .dataframe tbody tr th:only-of-type {\n",
       "        vertical-align: middle;\n",
       "    }\n",
       "\n",
       "    .dataframe tbody tr th {\n",
       "        vertical-align: top;\n",
       "    }\n",
       "\n",
       "    .dataframe thead th {\n",
       "        text-align: right;\n",
       "    }\n",
       "</style>\n",
       "<table border=\"1\" class=\"dataframe\">\n",
       "  <thead>\n",
       "    <tr style=\"text-align: right;\">\n",
       "      <th></th>\n",
       "      <th>first_name</th>\n",
       "      <th>last_name</th>\n",
       "      <th>gender</th>\n",
       "      <th>past_3_years_bike_related_purchases</th>\n",
       "      <th>DOB</th>\n",
       "      <th>job_title</th>\n",
       "      <th>job_industry_category</th>\n",
       "      <th>wealth_segment</th>\n",
       "      <th>deceased_indicator</th>\n",
       "      <th>owns_car</th>\n",
       "      <th>tenure</th>\n",
       "      <th>address</th>\n",
       "      <th>postcode</th>\n",
       "      <th>state</th>\n",
       "      <th>country</th>\n",
       "      <th>property_valuation</th>\n",
       "      <th>Rank</th>\n",
       "      <th>Value</th>\n",
       "    </tr>\n",
       "  </thead>\n",
       "  <tbody>\n",
       "    <tr>\n",
       "      <th>0</th>\n",
       "      <td>Chickie</td>\n",
       "      <td>Brister</td>\n",
       "      <td>Male</td>\n",
       "      <td>86</td>\n",
       "      <td>1957-07-12</td>\n",
       "      <td>General Manager</td>\n",
       "      <td>Manufacturing</td>\n",
       "      <td>Mass Customer</td>\n",
       "      <td>N</td>\n",
       "      <td>Yes</td>\n",
       "      <td>14</td>\n",
       "      <td>45 Shopko Center</td>\n",
       "      <td>4500</td>\n",
       "      <td>QLD</td>\n",
       "      <td>Australia</td>\n",
       "      <td>6</td>\n",
       "      <td>1</td>\n",
       "      <td>1.718750</td>\n",
       "    </tr>\n",
       "    <tr>\n",
       "      <th>1</th>\n",
       "      <td>Morly</td>\n",
       "      <td>Genery</td>\n",
       "      <td>Male</td>\n",
       "      <td>69</td>\n",
       "      <td>1970-03-22</td>\n",
       "      <td>Structural Engineer</td>\n",
       "      <td>Property</td>\n",
       "      <td>Mass Customer</td>\n",
       "      <td>N</td>\n",
       "      <td>No</td>\n",
       "      <td>16</td>\n",
       "      <td>14 Mccormick Park</td>\n",
       "      <td>2113</td>\n",
       "      <td>NSW</td>\n",
       "      <td>Australia</td>\n",
       "      <td>11</td>\n",
       "      <td>1</td>\n",
       "      <td>1.718750</td>\n",
       "    </tr>\n",
       "    <tr>\n",
       "      <th>2</th>\n",
       "      <td>Ardelis</td>\n",
       "      <td>Forrester</td>\n",
       "      <td>Female</td>\n",
       "      <td>10</td>\n",
       "      <td>1974-08-28</td>\n",
       "      <td>Senior Cost Accountant</td>\n",
       "      <td>Financial Services</td>\n",
       "      <td>Affluent Customer</td>\n",
       "      <td>N</td>\n",
       "      <td>No</td>\n",
       "      <td>10</td>\n",
       "      <td>5 Colorado Crossing</td>\n",
       "      <td>3505</td>\n",
       "      <td>VIC</td>\n",
       "      <td>Australia</td>\n",
       "      <td>5</td>\n",
       "      <td>1</td>\n",
       "      <td>1.718750</td>\n",
       "    </tr>\n",
       "    <tr>\n",
       "      <th>3</th>\n",
       "      <td>Lucine</td>\n",
       "      <td>Stutt</td>\n",
       "      <td>Female</td>\n",
       "      <td>64</td>\n",
       "      <td>1979-01-28</td>\n",
       "      <td>Account Representative III</td>\n",
       "      <td>Manufacturing</td>\n",
       "      <td>Affluent Customer</td>\n",
       "      <td>N</td>\n",
       "      <td>Yes</td>\n",
       "      <td>5</td>\n",
       "      <td>207 Annamark Plaza</td>\n",
       "      <td>4814</td>\n",
       "      <td>QLD</td>\n",
       "      <td>Australia</td>\n",
       "      <td>1</td>\n",
       "      <td>4</td>\n",
       "      <td>1.703125</td>\n",
       "    </tr>\n",
       "    <tr>\n",
       "      <th>4</th>\n",
       "      <td>Melinda</td>\n",
       "      <td>Hadlee</td>\n",
       "      <td>Female</td>\n",
       "      <td>34</td>\n",
       "      <td>1965-09-21</td>\n",
       "      <td>Financial Analyst</td>\n",
       "      <td>Financial Services</td>\n",
       "      <td>Affluent Customer</td>\n",
       "      <td>N</td>\n",
       "      <td>No</td>\n",
       "      <td>19</td>\n",
       "      <td>115 Montana Place</td>\n",
       "      <td>2093</td>\n",
       "      <td>NSW</td>\n",
       "      <td>Australia</td>\n",
       "      <td>9</td>\n",
       "      <td>4</td>\n",
       "      <td>1.703125</td>\n",
       "    </tr>\n",
       "  </tbody>\n",
       "</table>\n",
       "</div>"
      ],
      "text/plain": [
       "  first_name  last_name  gender  past_3_years_bike_related_purchases  \\\n",
       "0    Chickie    Brister    Male                                   86   \n",
       "1      Morly     Genery    Male                                   69   \n",
       "2    Ardelis  Forrester  Female                                   10   \n",
       "3     Lucine      Stutt  Female                                   64   \n",
       "4    Melinda     Hadlee  Female                                   34   \n",
       "\n",
       "         DOB                   job_title job_industry_category  \\\n",
       "0 1957-07-12             General Manager         Manufacturing   \n",
       "1 1970-03-22         Structural Engineer              Property   \n",
       "2 1974-08-28      Senior Cost Accountant    Financial Services   \n",
       "3 1979-01-28  Account Representative III         Manufacturing   \n",
       "4 1965-09-21           Financial Analyst    Financial Services   \n",
       "\n",
       "      wealth_segment deceased_indicator owns_car  tenure              address  \\\n",
       "0      Mass Customer                  N      Yes      14     45 Shopko Center   \n",
       "1      Mass Customer                  N       No      16    14 Mccormick Park   \n",
       "2  Affluent Customer                  N       No      10  5 Colorado Crossing   \n",
       "3  Affluent Customer                  N      Yes       5   207 Annamark Plaza   \n",
       "4  Affluent Customer                  N       No      19    115 Montana Place   \n",
       "\n",
       "   postcode state    country  property_valuation  Rank     Value  \n",
       "0      4500   QLD  Australia                   6     1  1.718750  \n",
       "1      2113   NSW  Australia                  11     1  1.718750  \n",
       "2      3505   VIC  Australia                   5     1  1.718750  \n",
       "3      4814   QLD  Australia                   1     4  1.703125  \n",
       "4      2093   NSW  Australia                   9     4  1.703125  "
      ]
     },
     "execution_count": 159,
     "metadata": {},
     "output_type": "execute_result"
    }
   ],
   "source": [
    "#Inconsistency Check \n",
    "df_new_cust.head()"
   ]
  },
  {
   "cell_type": "markdown",
   "id": "9f29450a-0036-47d1-94a0-eb829e299b69",
   "metadata": {},
   "source": [
    "By observing above table.there are six categorical columns, their name as 'gender', 'wealth_segment' ,'deceased_indicator', 'owns_car' ,'state' ,'country'"
   ]
  },
  {
   "cell_type": "code",
   "execution_count": 160,
   "id": "b4607b93-9ecc-4685-9d98-aaf64672ce55",
   "metadata": {},
   "outputs": [
    {
     "data": {
      "text/plain": [
       "Female    513\n",
       "Male      470\n",
       "Name: gender, dtype: int64"
      ]
     },
     "execution_count": 160,
     "metadata": {},
     "output_type": "execute_result"
    }
   ],
   "source": [
    "#start with gender col\n",
    "df_new_cust['gender'].value_counts()"
   ]
  },
  {
   "cell_type": "markdown",
   "id": "9789593a-db47-46be-8bca-f087201e5db3",
   "metadata": {},
   "source": [
    "there is no Inconsistency in gender col"
   ]
  },
  {
   "cell_type": "code",
   "execution_count": 161,
   "id": "b0255ab7-9e70-4e21-adc6-4cd515e20dde",
   "metadata": {},
   "outputs": [
    {
     "data": {
      "text/plain": [
       "Mass Customer        499\n",
       "High Net Worth       249\n",
       "Affluent Customer    235\n",
       "Name: wealth_segment, dtype: int64"
      ]
     },
     "execution_count": 161,
     "metadata": {},
     "output_type": "execute_result"
    }
   ],
   "source": [
    "df_new_cust['wealth_segment'].value_counts()"
   ]
  },
  {
   "cell_type": "markdown",
   "id": "013d987b-3582-4133-9bde-8285dcae1721",
   "metadata": {},
   "source": [
    "there is no Inconsistency in wealth_segment col"
   ]
  },
  {
   "cell_type": "code",
   "execution_count": 162,
   "id": "87cc919c-3f35-4791-9663-761915f91860",
   "metadata": {},
   "outputs": [
    {
     "data": {
      "text/plain": [
       "N    983\n",
       "Name: deceased_indicator, dtype: int64"
      ]
     },
     "execution_count": 162,
     "metadata": {},
     "output_type": "execute_result"
    }
   ],
   "source": [
    "df_new_cust['deceased_indicator'].value_counts()"
   ]
  },
  {
   "cell_type": "code",
   "execution_count": 163,
   "id": "b38ebe01-0819-4620-8076-461e1b144ec9",
   "metadata": {},
   "outputs": [
    {
     "data": {
      "text/plain": [
       "No     497\n",
       "Yes    486\n",
       "Name: owns_car, dtype: int64"
      ]
     },
     "execution_count": 163,
     "metadata": {},
     "output_type": "execute_result"
    }
   ],
   "source": [
    "df_new_cust['owns_car'].value_counts()"
   ]
  },
  {
   "cell_type": "markdown",
   "id": "8e84ff2f-c337-4218-af3b-8f20df479dcc",
   "metadata": {},
   "source": [
    "there is no Inconsistency in owns_car col"
   ]
  },
  {
   "cell_type": "code",
   "execution_count": 164,
   "id": "c24bd4e5-668f-4443-b41a-b5751203a89e",
   "metadata": {},
   "outputs": [
    {
     "data": {
      "text/plain": [
       "NSW    499\n",
       "VIC    258\n",
       "QLD    226\n",
       "Name: state, dtype: int64"
      ]
     },
     "execution_count": 164,
     "metadata": {},
     "output_type": "execute_result"
    }
   ],
   "source": [
    "df_new_cust['state'].value_counts()"
   ]
  },
  {
   "cell_type": "markdown",
   "id": "2313937b-404d-4f70-bd00-f74500458772",
   "metadata": {},
   "source": [
    "there is no Inconsistency in state col"
   ]
  },
  {
   "cell_type": "code",
   "execution_count": 165,
   "id": "6be3c48b-1bcf-4e64-b9a4-5f4829990426",
   "metadata": {},
   "outputs": [
    {
     "data": {
      "text/plain": [
       "Australia    983\n",
       "Name: country, dtype: int64"
      ]
     },
     "execution_count": 165,
     "metadata": {},
     "output_type": "execute_result"
    }
   ],
   "source": [
    "df_new_cust['country'].value_counts()"
   ]
  },
  {
   "cell_type": "markdown",
   "id": "5624cb8a-67f9-4620-b6c8-a4212c031556",
   "metadata": {},
   "source": [
    "there is no Inconsistency in country col"
   ]
  },
  {
   "cell_type": "code",
   "execution_count": 166,
   "id": "4db9696c-bdf9-4b64-9b64-bf1a6af233d2",
   "metadata": {
    "scrolled": true
   },
   "outputs": [
    {
     "data": {
      "text/plain": [
       "count    983.000000\n",
       "mean      11.459817\n",
       "std        5.006123\n",
       "min        1.000000\n",
       "25%        8.000000\n",
       "50%       11.000000\n",
       "75%       15.000000\n",
       "max       22.000000\n",
       "Name: tenure, dtype: float64"
      ]
     },
     "execution_count": 166,
     "metadata": {},
     "output_type": "execute_result"
    }
   ],
   "source": [
    "df_new_cust['tenure'].describe()"
   ]
  },
  {
   "cell_type": "code",
   "execution_count": 167,
   "id": "3f309ddb-6464-429a-83db-27b533560074",
   "metadata": {},
   "outputs": [
    {
     "data": {
      "text/plain": [
       "<AxesSubplot:xlabel='tenure', ylabel='Count'>"
      ]
     },
     "execution_count": 167,
     "metadata": {},
     "output_type": "execute_result"
    },
    {
     "data": {
      "image/png": "[encoded data removed]",
      "text/plain": [
       "<Figure size 640x480 with 1 Axes>"
      ]
     },
     "metadata": {},
     "output_type": "display_data"
    }
   ],
   "source": [
    "sns.histplot(data = df_new_cust['tenure'], kde=True)"
   ]
  },
  {
   "cell_type": "markdown",
   "id": "212edf22-29be-449e-9463-b88b77732d0a",
   "metadata": {},
   "source": [
    "there is no Inconsistency in tenure col it looks fine"
   ]
  },
  {
   "cell_type": "code",
   "execution_count": 168,
   "id": "7f12fef2-5008-46e3-93af-730cfeb516df",
   "metadata": {},
   "outputs": [],
   "source": [
    "#adding age column\n",
    "def age(born):\n",
    "    today = date.today()\n",
    "    \n",
    "    return today.year - born.year - ((today.month, today.day) < (born.month, born.day))\n",
    "\n",
    "df_new_cust['DOB'] = pd.to_datetime(df_new_cust['DOB'])\n",
    "df_new_cust['Age'] = df_new_cust['DOB'].apply(age)"
   ]
  },
  {
   "cell_type": "code",
   "execution_count": 169,
   "id": "3a0a1800-2b46-4011-8817-027f5f2922d4",
   "metadata": {},
   "outputs": [
    {
     "data": {
      "text/plain": [
       "count    983.000000\n",
       "mean      52.648016\n",
       "std       17.065532\n",
       "min       22.000000\n",
       "25%       41.000000\n",
       "50%       52.000000\n",
       "75%       66.000000\n",
       "max       86.000000\n",
       "Name: Age, dtype: float64"
      ]
     },
     "execution_count": 169,
     "metadata": {},
     "output_type": "execute_result"
    }
   ],
   "source": [
    "#Descriptive Statistics of Age column\n",
    "df_new_cust['Age'].describe()"
   ]
  },
  {
   "cell_type": "code",
   "execution_count": 170,
   "id": "26331191-ab28-41d8-99c7-c31346a5326c",
   "metadata": {},
   "outputs": [
    {
     "data": {
      "text/plain": [
       "<AxesSubplot:xlabel='Age', ylabel='Count'>"
      ]
     },
     "execution_count": 170,
     "metadata": {},
     "output_type": "execute_result"
    },
    {
     "data": {
      "image/png": "[encoded data removed]",
      "text/plain": [
       "<Figure size 640x480 with 1 Axes>"
      ]
     },
     "metadata": {},
     "output_type": "display_data"
    }
   ],
   "source": [
    "sns.histplot(data = df_new_cust['Age'], kde=True)"
   ]
  },
  {
   "cell_type": "markdown",
   "id": "1131366d-ac8d-43d0-a129-0bddc30d32ba",
   "metadata": {},
   "source": [
    "there is no Inconsistency in Age col it looks fine"
   ]
  },
  {
   "cell_type": "code",
   "execution_count": 171,
   "id": "bf33708b-2478-4977-aede-7d286ff9e3bd",
   "metadata": {},
   "outputs": [],
   "source": [
    "#adding age group col\n",
    "\n",
    "df_new_cust['Age Group'] = df_new_cust['Age'].apply(lambda x : (math.floor(x/10)+1)*10)"
   ]
  },
  {
   "cell_type": "code",
   "execution_count": 172,
   "id": "c05ff3ce-9ee4-4a2c-8b9c-6a205092c8cc",
   "metadata": {},
   "outputs": [
    {
     "data": {
      "text/plain": [
       "<AxesSubplot:xlabel='Age Group', ylabel='Count'>"
      ]
     },
     "execution_count": 172,
     "metadata": {},
     "output_type": "execute_result"
    },
    {
     "data": {
      "image/png": "[encoded data removed]",
      "text/plain": [
       "<Figure size 640x480 with 1 Axes>"
      ]
     },
     "metadata": {},
     "output_type": "display_data"
    }
   ],
   "source": [
    "sns.histplot(data = df_new_cust['Age Group'])"
   ]
  },
  {
   "cell_type": "markdown",
   "id": "7a4daa23-c7bd-4e3b-a94c-aa9973511cf6",
   "metadata": {},
   "source": [
    "The highest number of New Customers are from the Age Group 50-59.\n",
    "\n"
   ]
  },
  {
   "cell_type": "code",
   "execution_count": 173,
   "id": "93e19b15-a0f9-425c-80af-370895b68f17",
   "metadata": {},
   "outputs": [
    {
     "name": "stdout",
     "output_type": "stream",
     "text": [
      "Number of records after removing customer_id (pk), duplicates : 983\n",
      "Number of records in original dataset : 983\n"
     ]
    }
   ],
   "source": [
    "#Duplication Checks\n",
    "new_cust_dedupped = df_new_cust.drop_duplicates()\n",
    "\n",
    "print(\"Number of records after removing customer_id (pk), duplicates : {}\".format(new_cust_dedupped.shape[0]))\n",
    "print(\"Number of records in original dataset : {}\".format(df_new_cust.shape[0]))"
   ]
  },
  {
   "cell_type": "markdown",
   "id": "25b85e71-63c3-4edc-bc38-9d7bf39ad023",
   "metadata": {},
   "source": [
    "Since both the numbers are same. There are no duplicate records in the dataset.\n"
   ]
  },
  {
   "cell_type": "code",
   "execution_count": 174,
   "id": "e3b08f63-6f10-478d-a58e-b7fe1c3f0850",
   "metadata": {},
   "outputs": [],
   "source": [
    "#exporting Cleaned data\n",
    "\n",
    "df_new_cust.to_csv('NewCustomerList_Cleaned.csv', index=False)"
   ]
  },
  {
   "cell_type": "markdown",
   "id": "eb0bb04a-dd75-4e6e-8861-81bfba20929c",
   "metadata": {
    "jp-MarkdownHeadingCollapsed": true
   },
   "source": [
    "## 4. Data Cleaning Transactions"
   ]
  },
  {
   "cell_type": "code",
   "execution_count": 175,
   "id": "2985307c-f1e6-4686-98b3-f60fdeb75061",
   "metadata": {},
   "outputs": [],
   "source": [
    "df_tranc =  pd.read_excel('Raw_data.xlsx' , sheet_name = 'Transactions' ) "
   ]
  },
  {
   "cell_type": "code",
   "execution_count": 176,
   "id": "671ea24d-9f7d-4f18-ba6d-b2d04065e1d5",
   "metadata": {},
   "outputs": [
    {
     "data": {
      "text/html": [
       "<div>\n",
       "<style scoped>\n",
       "    .dataframe tbody tr th:only-of-type {\n",
       "        vertical-align: middle;\n",
       "    }\n",
       "\n",
       "    .dataframe tbody tr th {\n",
       "        vertical-align: top;\n",
       "    }\n",
       "\n",
       "    .dataframe thead th {\n",
       "        text-align: right;\n",
       "    }\n",
       "</style>\n",
       "<table border=\"1\" class=\"dataframe\">\n",
       "  <thead>\n",
       "    <tr style=\"text-align: right;\">\n",
       "      <th></th>\n",
       "      <th>transaction_id</th>\n",
       "      <th>product_id</th>\n",
       "      <th>customer_id</th>\n",
       "      <th>transaction_date</th>\n",
       "      <th>online_order</th>\n",
       "      <th>order_status</th>\n",
       "      <th>brand</th>\n",
       "      <th>product_line</th>\n",
       "      <th>product_class</th>\n",
       "      <th>product_size</th>\n",
       "      <th>list_price</th>\n",
       "      <th>standard_cost</th>\n",
       "      <th>product_first_sold_date</th>\n",
       "    </tr>\n",
       "  </thead>\n",
       "  <tbody>\n",
       "    <tr>\n",
       "      <th>0</th>\n",
       "      <td>1</td>\n",
       "      <td>2</td>\n",
       "      <td>2950</td>\n",
       "      <td>2017-02-25</td>\n",
       "      <td>0.0</td>\n",
       "      <td>Approved</td>\n",
       "      <td>Solex</td>\n",
       "      <td>Standard</td>\n",
       "      <td>medium</td>\n",
       "      <td>medium</td>\n",
       "      <td>71.49</td>\n",
       "      <td>53.62</td>\n",
       "      <td>41245.0</td>\n",
       "    </tr>\n",
       "    <tr>\n",
       "      <th>1</th>\n",
       "      <td>2</td>\n",
       "      <td>3</td>\n",
       "      <td>3120</td>\n",
       "      <td>2017-05-21</td>\n",
       "      <td>1.0</td>\n",
       "      <td>Approved</td>\n",
       "      <td>Trek Bicycles</td>\n",
       "      <td>Standard</td>\n",
       "      <td>medium</td>\n",
       "      <td>large</td>\n",
       "      <td>2091.47</td>\n",
       "      <td>388.92</td>\n",
       "      <td>41701.0</td>\n",
       "    </tr>\n",
       "    <tr>\n",
       "      <th>2</th>\n",
       "      <td>3</td>\n",
       "      <td>37</td>\n",
       "      <td>402</td>\n",
       "      <td>2017-10-16</td>\n",
       "      <td>0.0</td>\n",
       "      <td>Approved</td>\n",
       "      <td>OHM Cycles</td>\n",
       "      <td>Standard</td>\n",
       "      <td>low</td>\n",
       "      <td>medium</td>\n",
       "      <td>1793.43</td>\n",
       "      <td>248.82</td>\n",
       "      <td>36361.0</td>\n",
       "    </tr>\n",
       "    <tr>\n",
       "      <th>3</th>\n",
       "      <td>4</td>\n",
       "      <td>88</td>\n",
       "      <td>3135</td>\n",
       "      <td>2017-08-31</td>\n",
       "      <td>0.0</td>\n",
       "      <td>Approved</td>\n",
       "      <td>Norco Bicycles</td>\n",
       "      <td>Standard</td>\n",
       "      <td>medium</td>\n",
       "      <td>medium</td>\n",
       "      <td>1198.46</td>\n",
       "      <td>381.10</td>\n",
       "      <td>36145.0</td>\n",
       "    </tr>\n",
       "    <tr>\n",
       "      <th>4</th>\n",
       "      <td>5</td>\n",
       "      <td>78</td>\n",
       "      <td>787</td>\n",
       "      <td>2017-10-01</td>\n",
       "      <td>1.0</td>\n",
       "      <td>Approved</td>\n",
       "      <td>Giant Bicycles</td>\n",
       "      <td>Standard</td>\n",
       "      <td>medium</td>\n",
       "      <td>large</td>\n",
       "      <td>1765.30</td>\n",
       "      <td>709.48</td>\n",
       "      <td>42226.0</td>\n",
       "    </tr>\n",
       "  </tbody>\n",
       "</table>\n",
       "</div>"
      ],
      "text/plain": [
       "   transaction_id  product_id  customer_id transaction_date  online_order  \\\n",
       "0               1           2         2950       2017-02-25           0.0   \n",
       "1               2           3         3120       2017-05-21           1.0   \n",
       "2               3          37          402       2017-10-16           0.0   \n",
       "3               4          88         3135       2017-08-31           0.0   \n",
       "4               5          78          787       2017-10-01           1.0   \n",
       "\n",
       "  order_status           brand product_line product_class product_size  \\\n",
       "0     Approved           Solex     Standard        medium       medium   \n",
       "1     Approved   Trek Bicycles     Standard        medium        large   \n",
       "2     Approved      OHM Cycles     Standard           low       medium   \n",
       "3     Approved  Norco Bicycles     Standard        medium       medium   \n",
       "4     Approved  Giant Bicycles     Standard        medium        large   \n",
       "\n",
       "   list_price  standard_cost  product_first_sold_date  \n",
       "0       71.49          53.62                  41245.0  \n",
       "1     2091.47         388.92                  41701.0  \n",
       "2     1793.43         248.82                  36361.0  \n",
       "3     1198.46         381.10                  36145.0  \n",
       "4     1765.30         709.48                  42226.0  "
      ]
     },
     "execution_count": 176,
     "metadata": {},
     "output_type": "execute_result"
    }
   ],
   "source": [
    "df_tranc.head()"
   ]
  },
  {
   "cell_type": "code",
   "execution_count": 177,
   "id": "ad65f02d-2b33-4fbb-a361-5fbf4d790ad3",
   "metadata": {},
   "outputs": [
    {
     "name": "stdout",
     "output_type": "stream",
     "text": [
      "Total records (rows) in the dataset : 20000\n",
      "Total columns (features) in the dataset : 13\n"
     ]
    }
   ],
   "source": [
    "#shape of dataset\n",
    "\n",
    "print(\"Total records (rows) in the dataset : {}\".format(df_tranc.shape[0]))\n",
    "print(\"Total columns (features) in the dataset : {}\".format(df_tranc.shape[1]))"
   ]
  },
  {
   "cell_type": "code",
   "execution_count": 178,
   "id": "19fede5a-d4d2-4b48-886d-060f76306ef2",
   "metadata": {},
   "outputs": [
    {
     "name": "stdout",
     "output_type": "stream",
     "text": [
      "<class 'pandas.core.frame.DataFrame'>\n",
      "RangeIndex: 20000 entries, 0 to 19999\n",
      "Data columns (total 13 columns):\n",
      " #   Column                   Non-Null Count  Dtype         \n",
      "---  ------                   --------------  -----         \n",
      " 0   transaction_id           20000 non-null  int64         \n",
      " 1   product_id               20000 non-null  int64         \n",
      " 2   customer_id              20000 non-null  int64         \n",
      " 3   transaction_date         20000 non-null  datetime64[ns]\n",
      " 4   online_order             19640 non-null  float64       \n",
      " 5   order_status             20000 non-null  object        \n",
      " 6   brand                    19803 non-null  object        \n",
      " 7   product_line             19803 non-null  object        \n",
      " 8   product_class            19803 non-null  object        \n",
      " 9   product_size             19803 non-null  object        \n",
      " 10  list_price               20000 non-null  float64       \n",
      " 11  standard_cost            19803 non-null  float64       \n",
      " 12  product_first_sold_date  19803 non-null  float64       \n",
      "dtypes: datetime64[ns](1), float64(4), int64(3), object(5)\n",
      "memory usage: 2.0+ MB\n"
     ]
    }
   ],
   "source": [
    "df_tranc.info()"
   ]
  },
  {
   "cell_type": "markdown",
   "id": "7df2b9ac-c91a-4fcc-9c08-0fea2913e0d8",
   "metadata": {},
   "source": [
    "The datatype of product_first_sold_date column is not in datetime format. The data type of this column must be changed from int64 to datetime format."
   ]
  },
  {
   "cell_type": "code",
   "execution_count": 179,
   "id": "db98ccfa-a3af-43ed-ab96-f63a478a7094",
   "metadata": {},
   "outputs": [
    {
     "data": {
      "text/plain": [
       "transaction_id             0.000\n",
       "product_id                 0.000\n",
       "customer_id                0.000\n",
       "transaction_date           0.000\n",
       "online_order               1.800\n",
       "order_status               0.000\n",
       "brand                      0.985\n",
       "product_line               0.985\n",
       "product_class              0.985\n",
       "product_size               0.985\n",
       "list_price                 0.000\n",
       "standard_cost              0.985\n",
       "product_first_sold_date    0.985\n",
       "dtype: float64"
      ]
     },
     "execution_count": 179,
     "metadata": {},
     "output_type": "execute_result"
    }
   ],
   "source": [
    "#Percentage missing values\n",
    "df_tranc.isnull().mean()*100"
   ]
  },
  {
   "cell_type": "code",
   "execution_count": 180,
   "id": "ea9c4157-b391-4579-b892-95d1b03fcaef",
   "metadata": {},
   "outputs": [
    {
     "data": {
      "text/plain": [
       "0    1.0\n",
       "Name: online_order, dtype: float64"
      ]
     },
     "execution_count": 180,
     "metadata": {},
     "output_type": "execute_result"
    }
   ],
   "source": [
    "#Online_Order col:- Since 1.8 % of the records have online_order data missing we can perform mode imputation for this categorical column.\n",
    "\n",
    "most_freq_online_mode = df_tranc['online_order'].mode()\n",
    "most_freq_online_mode\n",
    "\n",
    "\n"
   ]
  },
  {
   "cell_type": "markdown",
   "id": "e78899cd-6334-469e-9a94-eb952b636fdc",
   "metadata": {},
   "source": [
    "Since 1 is the most frequent value of online order. We will do a mode imputation on this categorical value.\n",
    "\n"
   ]
  },
  {
   "cell_type": "code",
   "execution_count": 181,
   "id": "1f88b3fb-d8ce-4732-b2a9-0c0a54ec3d63",
   "metadata": {},
   "outputs": [],
   "source": [
    "  df_tranc['online_order'] = df_tranc['online_order'].fillna(1, axis=0)\n"
   ]
  },
  {
   "cell_type": "code",
   "execution_count": 182,
   "id": "b931e5d2-58fc-4f57-8927-8e01996d7713",
   "metadata": {},
   "outputs": [
    {
     "data": {
      "text/plain": [
       "0"
      ]
     },
     "execution_count": 182,
     "metadata": {},
     "output_type": "execute_result"
    }
   ],
   "source": [
    "df_tranc['online_order'].isnull().sum()"
   ]
  },
  {
   "cell_type": "markdown",
   "id": "272f7152-7b5e-4ed8-93e1-3cd0c6d37a20",
   "metadata": {},
   "source": [
    "\n",
    "Currently there are no missing values for online_order column"
   ]
  },
  {
   "cell_type": "markdown",
   "id": "2652fcf6-9b17-42cb-827f-19514df705ad",
   "metadata": {},
   "source": [
    "Remaining col that has null values, named as  Brand, Product Line, Product Class, Product Size, Standard Cost, Product First Sold Date. \n",
    "all these cols have less than 1% missing values. hence we can drop them\n"
   ]
  },
  {
   "cell_type": "code",
   "execution_count": 183,
   "id": "e98bf8be-18da-465f-852c-f0dc48571bf0",
   "metadata": {},
   "outputs": [],
   "source": [
    "records_to_drop = df_tranc[df_tranc['brand'].isnull()][['brand', 'product_line', 'product_class', 'product_size', \n",
    "                                'standard_cost', 'product_first_sold_date']].index\n",
    "records_to_drop\n",
    "\n",
    "df_tranc.drop(index=records_to_drop ,inplace=True , axis=0)"
   ]
  },
  {
   "cell_type": "code",
   "execution_count": 184,
   "id": "f9bce2be-a27c-4f89-a054-6e8be9d7f35c",
   "metadata": {},
   "outputs": [
    {
     "data": {
      "text/plain": [
       "transaction_id             0.0\n",
       "product_id                 0.0\n",
       "customer_id                0.0\n",
       "transaction_date           0.0\n",
       "online_order               0.0\n",
       "order_status               0.0\n",
       "brand                      0.0\n",
       "product_line               0.0\n",
       "product_class              0.0\n",
       "product_size               0.0\n",
       "list_price                 0.0\n",
       "standard_cost              0.0\n",
       "product_first_sold_date    0.0\n",
       "dtype: float64"
      ]
     },
     "execution_count": 184,
     "metadata": {},
     "output_type": "execute_result"
    }
   ],
   "source": [
    "df_tranc.isnull().mean()*100"
   ]
  },
  {
   "cell_type": "markdown",
   "id": "56932531-0c53-4a78-83fc-fec49b8e1427",
   "metadata": {},
   "source": [
    "Finally there are no Missing values in the transaction dataset.\n",
    "\n"
   ]
  },
  {
   "cell_type": "code",
   "execution_count": 185,
   "id": "9a097c3e-3b0a-4520-a433-73526eaba96f",
   "metadata": {},
   "outputs": [
    {
     "data": {
      "text/html": [
       "<div>\n",
       "<style scoped>\n",
       "    .dataframe tbody tr th:only-of-type {\n",
       "        vertical-align: middle;\n",
       "    }\n",
       "\n",
       "    .dataframe tbody tr th {\n",
       "        vertical-align: top;\n",
       "    }\n",
       "\n",
       "    .dataframe thead th {\n",
       "        text-align: right;\n",
       "    }\n",
       "</style>\n",
       "<table border=\"1\" class=\"dataframe\">\n",
       "  <thead>\n",
       "    <tr style=\"text-align: right;\">\n",
       "      <th></th>\n",
       "      <th>transaction_id</th>\n",
       "      <th>product_id</th>\n",
       "      <th>customer_id</th>\n",
       "      <th>transaction_date</th>\n",
       "      <th>online_order</th>\n",
       "      <th>order_status</th>\n",
       "      <th>brand</th>\n",
       "      <th>product_line</th>\n",
       "      <th>product_class</th>\n",
       "      <th>product_size</th>\n",
       "      <th>list_price</th>\n",
       "      <th>standard_cost</th>\n",
       "      <th>product_first_sold_date</th>\n",
       "    </tr>\n",
       "  </thead>\n",
       "  <tbody>\n",
       "    <tr>\n",
       "      <th>0</th>\n",
       "      <td>1</td>\n",
       "      <td>2</td>\n",
       "      <td>2950</td>\n",
       "      <td>2017-02-25</td>\n",
       "      <td>0.0</td>\n",
       "      <td>Approved</td>\n",
       "      <td>Solex</td>\n",
       "      <td>Standard</td>\n",
       "      <td>medium</td>\n",
       "      <td>medium</td>\n",
       "      <td>71.49</td>\n",
       "      <td>53.62</td>\n",
       "      <td>41245.0</td>\n",
       "    </tr>\n",
       "    <tr>\n",
       "      <th>1</th>\n",
       "      <td>2</td>\n",
       "      <td>3</td>\n",
       "      <td>3120</td>\n",
       "      <td>2017-05-21</td>\n",
       "      <td>1.0</td>\n",
       "      <td>Approved</td>\n",
       "      <td>Trek Bicycles</td>\n",
       "      <td>Standard</td>\n",
       "      <td>medium</td>\n",
       "      <td>large</td>\n",
       "      <td>2091.47</td>\n",
       "      <td>388.92</td>\n",
       "      <td>41701.0</td>\n",
       "    </tr>\n",
       "    <tr>\n",
       "      <th>2</th>\n",
       "      <td>3</td>\n",
       "      <td>37</td>\n",
       "      <td>402</td>\n",
       "      <td>2017-10-16</td>\n",
       "      <td>0.0</td>\n",
       "      <td>Approved</td>\n",
       "      <td>OHM Cycles</td>\n",
       "      <td>Standard</td>\n",
       "      <td>low</td>\n",
       "      <td>medium</td>\n",
       "      <td>1793.43</td>\n",
       "      <td>248.82</td>\n",
       "      <td>36361.0</td>\n",
       "    </tr>\n",
       "    <tr>\n",
       "      <th>3</th>\n",
       "      <td>4</td>\n",
       "      <td>88</td>\n",
       "      <td>3135</td>\n",
       "      <td>2017-08-31</td>\n",
       "      <td>0.0</td>\n",
       "      <td>Approved</td>\n",
       "      <td>Norco Bicycles</td>\n",
       "      <td>Standard</td>\n",
       "      <td>medium</td>\n",
       "      <td>medium</td>\n",
       "      <td>1198.46</td>\n",
       "      <td>381.10</td>\n",
       "      <td>36145.0</td>\n",
       "    </tr>\n",
       "    <tr>\n",
       "      <th>4</th>\n",
       "      <td>5</td>\n",
       "      <td>78</td>\n",
       "      <td>787</td>\n",
       "      <td>2017-10-01</td>\n",
       "      <td>1.0</td>\n",
       "      <td>Approved</td>\n",
       "      <td>Giant Bicycles</td>\n",
       "      <td>Standard</td>\n",
       "      <td>medium</td>\n",
       "      <td>large</td>\n",
       "      <td>1765.30</td>\n",
       "      <td>709.48</td>\n",
       "      <td>42226.0</td>\n",
       "    </tr>\n",
       "  </tbody>\n",
       "</table>\n",
       "</div>"
      ],
      "text/plain": [
       "   transaction_id  product_id  customer_id transaction_date  online_order  \\\n",
       "0               1           2         2950       2017-02-25           0.0   \n",
       "1               2           3         3120       2017-05-21           1.0   \n",
       "2               3          37          402       2017-10-16           0.0   \n",
       "3               4          88         3135       2017-08-31           0.0   \n",
       "4               5          78          787       2017-10-01           1.0   \n",
       "\n",
       "  order_status           brand product_line product_class product_size  \\\n",
       "0     Approved           Solex     Standard        medium       medium   \n",
       "1     Approved   Trek Bicycles     Standard        medium        large   \n",
       "2     Approved      OHM Cycles     Standard           low       medium   \n",
       "3     Approved  Norco Bicycles     Standard        medium       medium   \n",
       "4     Approved  Giant Bicycles     Standard        medium        large   \n",
       "\n",
       "   list_price  standard_cost  product_first_sold_date  \n",
       "0       71.49          53.62                  41245.0  \n",
       "1     2091.47         388.92                  41701.0  \n",
       "2     1793.43         248.82                  36361.0  \n",
       "3     1198.46         381.10                  36145.0  \n",
       "4     1765.30         709.48                  42226.0  "
      ]
     },
     "execution_count": 185,
     "metadata": {},
     "output_type": "execute_result"
    }
   ],
   "source": [
    "#Inconsistency Check\n",
    "df_tranc.head()"
   ]
  },
  {
   "cell_type": "markdown",
   "id": "3b7b6dfd-0870-4e7e-89c0-b8d6d6511f55",
   "metadata": {},
   "source": [
    "By observing above table.there are five categorical columns, their name as 'online_order', 'order_status' ,'product_line', 'product_class'  and 'brand'\n",
    "\n"
   ]
  },
  {
   "cell_type": "code",
   "execution_count": 186,
   "id": "a3ff85ea-b0a5-4a09-9dfa-e8beed620110",
   "metadata": {},
   "outputs": [
    {
     "data": {
      "text/plain": [
       "1.0    10097\n",
       "0.0     9706\n",
       "Name: online_order, dtype: int64"
      ]
     },
     "execution_count": 186,
     "metadata": {},
     "output_type": "execute_result"
    }
   ],
   "source": [
    "#start with gender col\n",
    "df_tranc['online_order'].value_counts()"
   ]
  },
  {
   "cell_type": "markdown",
   "id": "1d5a9a4a-2fb9-413e-a514-9828097f4635",
   "metadata": {},
   "source": [
    "there is no Inconsistency in online_order col"
   ]
  },
  {
   "cell_type": "code",
   "execution_count": 187,
   "id": "416826ad-1410-437d-9af8-f8e650dd48a4",
   "metadata": {},
   "outputs": [
    {
     "data": {
      "text/plain": [
       "Approved     19625\n",
       "Cancelled      178\n",
       "Name: order_status, dtype: int64"
      ]
     },
     "execution_count": 187,
     "metadata": {},
     "output_type": "execute_result"
    }
   ],
   "source": [
    "df_tranc['order_status'].value_counts()"
   ]
  },
  {
   "cell_type": "markdown",
   "id": "3f774d59-cebe-49cf-b7f2-500c7bbf40d9",
   "metadata": {},
   "source": [
    "there is no Inconsistency in order_status col"
   ]
  },
  {
   "cell_type": "code",
   "execution_count": 188,
   "id": "826a86f2-5c75-4d47-8c66-5d91a64c2010",
   "metadata": {},
   "outputs": [
    {
     "data": {
      "text/plain": [
       "Standard    14176\n",
       "Road         3970\n",
       "Touring      1234\n",
       "Mountain      423\n",
       "Name: product_line, dtype: int64"
      ]
     },
     "execution_count": 188,
     "metadata": {},
     "output_type": "execute_result"
    }
   ],
   "source": [
    "df_tranc['product_line'].value_counts()"
   ]
  },
  {
   "cell_type": "markdown",
   "id": "7cef988f-32cf-4b26-8eed-475e9781009f",
   "metadata": {},
   "source": [
    "there is no Inconsistency in product_line col"
   ]
  },
  {
   "cell_type": "code",
   "execution_count": 189,
   "id": "c0479680-6e8b-4ef2-a2bf-bef04ea75155",
   "metadata": {},
   "outputs": [
    {
     "data": {
      "text/plain": [
       "medium    13826\n",
       "high       3013\n",
       "low        2964\n",
       "Name: product_class, dtype: int64"
      ]
     },
     "execution_count": 189,
     "metadata": {},
     "output_type": "execute_result"
    }
   ],
   "source": [
    "df_tranc['product_class'].value_counts()"
   ]
  },
  {
   "cell_type": "markdown",
   "id": "6855492d-5f0a-455b-8bd1-30b2da4ed242",
   "metadata": {},
   "source": [
    "there is no Inconsistency in product_class col"
   ]
  },
  {
   "cell_type": "code",
   "execution_count": 190,
   "id": "79b040f6-221c-44b0-9f36-b12094f949ee",
   "metadata": {},
   "outputs": [
    {
     "data": {
      "text/plain": [
       "Solex             4253\n",
       "Giant Bicycles    3312\n",
       "WeareA2B          3295\n",
       "OHM Cycles        3043\n",
       "Trek Bicycles     2990\n",
       "Norco Bicycles    2910\n",
       "Name: brand, dtype: int64"
      ]
     },
     "execution_count": 190,
     "metadata": {},
     "output_type": "execute_result"
    }
   ],
   "source": [
    "df_tranc['brand'].value_counts()"
   ]
  },
  {
   "cell_type": "markdown",
   "id": "3152f190-b15f-4f4b-88db-103cf877e1c1",
   "metadata": {},
   "source": [
    "there is no Inconsistency in brand col"
   ]
  },
  {
   "cell_type": "code",
   "execution_count": 191,
   "id": "9861a7e7-b697-499b-941e-4613c3b1afff",
   "metadata": {},
   "outputs": [
    {
     "name": "stdout",
     "output_type": "stream",
     "text": [
      "Number of records after removing customer_id (pk), duplicates : 19803\n",
      "Number of records in original dataset : 19803\n"
     ]
    }
   ],
   "source": [
    "#Duplication Checks\n",
    "\n",
    "trans_dedupped = df_tranc.drop('transaction_id', axis=1).drop_duplicates()\n",
    "\n",
    "print(\"Number of records after removing customer_id (pk), duplicates : {}\".format(trans_dedupped.shape[0]))\n",
    "print(\"Number of records in original dataset : {}\".format(df_tranc.shape[0]))"
   ]
  },
  {
   "cell_type": "markdown",
   "id": "5c96cd19-307a-4558-aca5-6e69f07910d8",
   "metadata": {},
   "source": [
    "Since both the numbers are same. There are no duplicate records in the dataset\n",
    "\n"
   ]
  },
  {
   "cell_type": "code",
   "execution_count": 192,
   "id": "43168fb1-500c-49ff-b658-bd51b81a6476",
   "metadata": {},
   "outputs": [],
   "source": [
    "#Creating a new feature \"Profit\" :- profit is the difference of standard_cost and list_price\n",
    "df_tranc['Profit'] = df_tranc['list_price']-df_tranc['standard_cost']"
   ]
  },
  {
   "cell_type": "code",
   "execution_count": 193,
   "id": "da30a9b4-d5c4-4838-9717-0cc56ae9e8d4",
   "metadata": {},
   "outputs": [
    {
     "data": {
      "text/plain": [
       "<AxesSubplot:xlabel='Profit', ylabel='Count'>"
      ]
     },
     "execution_count": 193,
     "metadata": {},
     "output_type": "execute_result"
    },
    {
     "data": {
      "image/png": "[encoded data removed]",
      "text/plain": [
       "<Figure size 640x480 with 1 Axes>"
      ]
     },
     "metadata": {},
     "output_type": "display_data"
    }
   ],
   "source": [
    "# Dystribution of the Profit Column\n",
    "\n",
    "sns.histplot(df_tranc['Profit'] , kde=True)"
   ]
  },
  {
   "cell_type": "code",
   "execution_count": 194,
   "id": "7fa4dace-52a6-4786-9e0c-ffec2f264948",
   "metadata": {},
   "outputs": [],
   "source": [
    "#Exporting Cleaned  data \n",
    "df_tranc.to_csv('Transactions_Cleaned.csv', index=False)"
   ]
  },
  {
   "cell_type": "markdown",
   "id": "ec86c290-f1d5-469e-9621-d0ba33b6dd1c",
   "metadata": {},
   "source": [
    "We have Cleaned all the data. now is time to perform Exploratory Data Analysis (EDA)\n",
    "                                                 "
   ]
  },
  {
   "cell_type": "code",
   "execution_count": null,
   "id": "f93ede12-47e9-4689-ae97-fd13773ca657",
   "metadata": {},
   "outputs": [],
   "source": []
  }
 ],
 "metadata": {
  "kernelspec": {
   "display_name": "Python 3 (ipykernel)",
   "language": "python",
   "name": "python3"
  },
  "language_info": {
   "codemirror_mode": {
    "name": "ipython",
    "version": 3
   },
   "file_extension": ".py",
   "mimetype": "text/x-python",
   "name": "python",
   "nbconvert_exporter": "python",
   "pygments_lexer": "ipython3",
   "version": "3.9.13"
  }
 },
 "nbformat": 4,
 "nbformat_minor": 5
}
